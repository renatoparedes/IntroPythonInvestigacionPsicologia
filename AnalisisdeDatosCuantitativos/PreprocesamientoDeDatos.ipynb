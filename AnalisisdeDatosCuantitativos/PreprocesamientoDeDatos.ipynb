{
 "cells": [
  {
   "cell_type": "markdown",
   "metadata": {
    "slideshow": {
     "slide_type": "slide"
    }
   },
   "source": [
    "# Pre-procesamiento de datos con Pandas\n",
    "\n",
    "Este tutorial es una adaptación al español de los materiales del curso [Quantitative Neuroscience](http://www.compneurosci.com/NSCI801.html) desarrollado por Gunnar Blohm y Joe Nashed en la [Universidad de Queens](https://www.queensu.ca/). "
   ]
  },
  {
   "cell_type": "markdown",
   "metadata": {
    "slideshow": {
     "slide_type": "slide"
    }
   },
   "source": [
    "## Arreglos\n",
    "\n",
    "Para el manejo de datos cuantitativos Python cuenta con una estructura llamada `array` que está disponible en el paquete `NumPy`.  \n",
    "\n",
    "Un array o arreglo se entiende como una matriz de elementos organizados en filas y columnas. "
   ]
  },
  {
   "cell_type": "markdown",
   "metadata": {
    "slideshow": {
     "slide_type": "subslide"
    }
   },
   "source": [
    "### Crear una matriz NumPy\n",
    "\n",
    "La forma más sencilla de crear un arreglo en Numpy es usar listas. Puedes convertir una lista de Python en un arreglo de numpy utilizando el objeto `np.array`.\n",
    "\n",
    "Antes de hacerlo, debes importar el paquete usando la expresión `import`:\n",
    "\n",
    ">import numpy as np"
   ]
  },
  {
   "cell_type": "code",
   "execution_count": 5,
   "metadata": {
    "slideshow": {
     "slide_type": "subslide"
    }
   },
   "outputs": [
    {
     "name": "stdout",
     "output_type": "stream",
     "text": [
      "[1 9 8 3]\n",
      "<class 'list'>\n",
      "<class 'numpy.ndarray'>\n"
     ]
    }
   ],
   "source": [
    "import numpy as np\n",
    "\n",
    "myList = [1, 9, 8, 3]\n",
    "\n",
    "numpy_array_from_list = np.array(myList)\n",
    "\n",
    "print(numpy_array_from_list)\n",
    "print(type(myList))\n",
    "print(type(numpy_array_from_list))"
   ]
  },
  {
   "cell_type": "markdown",
   "metadata": {
    "slideshow": {
     "slide_type": "slide"
    }
   },
   "source": [
    "### Operaciones matemáticas en un arreglo \n",
    "\n",
    "Puedes realizar operaciones matemáticas como sumas, restas, divisiones y multiplicaciones en un arreglo. La sintaxis es el nombre de la matriz seguido de la operación (+, -, *, /) seguida del operando."
   ]
  },
  {
   "cell_type": "code",
   "execution_count": 6,
   "metadata": {
    "slideshow": {
     "slide_type": "fragment"
    }
   },
   "outputs": [
    {
     "data": {
      "text/plain": [
       "array([11, 19, 18, 13])"
      ]
     },
     "execution_count": 6,
     "metadata": {},
     "output_type": "execute_result"
    }
   ],
   "source": [
    "numpy_array_from_list + 10"
   ]
  },
  {
   "cell_type": "markdown",
   "metadata": {
    "slideshow": {
     "slide_type": "slide"
    }
   },
   "source": [
    "### Forma del arreglo\n",
    "\n",
    "Puedes comprobar la forma del arreglo llamando al objeto `shape` precedido por el nombre del arreglo. De la misma manera, puedes verificar su tipo con dtypes."
   ]
  },
  {
   "cell_type": "code",
   "execution_count": 7,
   "metadata": {
    "slideshow": {
     "slide_type": "fragment"
    }
   },
   "outputs": [
    {
     "name": "stdout",
     "output_type": "stream",
     "text": [
      "[1 2 3]\n",
      "(3,)\n",
      "int64\n"
     ]
    }
   ],
   "source": [
    "a = np.array([1, 2, 3])\n",
    "print(a)\n",
    "print(a.shape)\n",
    "print(a.dtype)"
   ]
  },
  {
   "cell_type": "markdown",
   "metadata": {
    "slideshow": {
     "slide_type": "slide"
    }
   },
   "source": [
    "### Arreglo de 2 dimensiones y Arreglo de 3 dimensiones\n",
    "\n",
    "Puedes agregar una dimensión incorporando una coma \",\" al momento de definir el arreglo. Ten en cuenta que la expresión completa debe estar entre corchetes []."
   ]
  },
  {
   "cell_type": "code",
   "execution_count": 9,
   "metadata": {
    "slideshow": {
     "slide_type": "fragment"
    }
   },
   "outputs": [
    {
     "name": "stdout",
     "output_type": "stream",
     "text": [
      "[[ 7  8  9]\n",
      " [10 11 12]]\n",
      "(2, 3)\n"
     ]
    }
   ],
   "source": [
    "# 2 dimensiones\n",
    "d = np.array([[7, 8, 9], [10, 11, 12]])\n",
    "print(d)\n",
    "print(d.shape)"
   ]
  },
  {
   "cell_type": "code",
   "execution_count": 77,
   "metadata": {
    "slideshow": {
     "slide_type": "fragment"
    }
   },
   "outputs": [
    {
     "name": "stdout",
     "output_type": "stream",
     "text": [
      "[[[ 1  2  3]\n",
      "  [ 4  5  6]]\n",
      "\n",
      " [[ 7  8  9]\n",
      "  [10 11 12]]]\n",
      "(2, 2, 3)\n"
     ]
    }
   ],
   "source": [
    "# 3 dimensiones\n",
    "d = np.array([[[1, 2, 3], [4, 5, 6]], [[7, 8, 9], [10, 11, 12]]])\n",
    "print(d)\n",
    "print(d.shape)"
   ]
  },
  {
   "cell_type": "markdown",
   "metadata": {
    "slideshow": {
     "slide_type": "slide"
    }
   },
   "source": [
    "### ¿Qué es np.zeros y np.ones?\n",
    "\n",
    "Puede crear un arreglo lleno de ceros o unos usando los comandos np.zeros y np.ones respectivamente."
   ]
  },
  {
   "cell_type": "code",
   "execution_count": 10,
   "metadata": {
    "slideshow": {
     "slide_type": "fragment"
    }
   },
   "outputs": [
    {
     "name": "stdout",
     "output_type": "stream",
     "text": [
      "[[1. 1. 1.]\n",
      " [1. 1. 1.]]\n",
      "[[0. 0. 0. 0.]\n",
      " [0. 0. 0. 0.]\n",
      " [0. 0. 0. 0.]]\n"
     ]
    }
   ],
   "source": [
    "# unos\n",
    "A = np.ones((2, 3))\n",
    "print(A)\n",
    "# ceros\n",
    "B = np.zeros((3, 4))\n",
    "print(B)"
   ]
  },
  {
   "cell_type": "markdown",
   "metadata": {
    "slideshow": {
     "slide_type": "slide"
    }
   },
   "source": [
    "### Cambiar la forma de los datos\n",
    "\n",
    "En algunas ocasiones, es necesario cambiar la forma de los datos de ancho a largo. Puedes utilizar la función de `reshape` para esto:"
   ]
  },
  {
   "cell_type": "code",
   "execution_count": 14,
   "metadata": {
    "slideshow": {
     "slide_type": "fragment"
    }
   },
   "outputs": [
    {
     "name": "stdout",
     "output_type": "stream",
     "text": [
      "[[1 2 3]\n",
      " [4 5 6]]\n"
     ]
    },
    {
     "data": {
      "text/plain": [
       "array([[1, 2],\n",
       "       [3, 4],\n",
       "       [5, 6]])"
      ]
     },
     "execution_count": 14,
     "metadata": {},
     "output_type": "execute_result"
    }
   ],
   "source": [
    "e = np.array([(1, 2, 3), (4, 5, 6)])\n",
    "print(e)\n",
    "e.reshape(3, 2)"
   ]
  },
  {
   "cell_type": "markdown",
   "metadata": {
    "slideshow": {
     "slide_type": "slide"
    }
   },
   "source": [
    "### ¡EXTRAER INFORMACIÓN DE ARREGLOS ES BÁSICAMENTE ES IGUAL QUE EN LAS LISTAS!\n",
    "\n",
    "Ten en cuenta que al tratar con más de una dimensión, debes considerar un índice para cada dimensión. \n",
    "\n",
    "Por ejemplo, para un arreglo de 2 dimensiones, se contará con un índice para las filas y otro para las columnas. Siempre en ese orden. "
   ]
  },
  {
   "cell_type": "markdown",
   "metadata": {
    "slideshow": {
     "slide_type": "subslide"
    }
   },
   "source": [
    "Veamos un ejemplo:"
   ]
  },
  {
   "cell_type": "code",
   "execution_count": 27,
   "metadata": {
    "slideshow": {
     "slide_type": "fragment"
    }
   },
   "outputs": [
    {
     "name": "stdout",
     "output_type": "stream",
     "text": [
      "[[1 2 3]\n",
      " [4 5 6]]\n",
      "[1 2 3]\n",
      "[4 5 6]\n"
     ]
    }
   ],
   "source": [
    "print(e)\n",
    "\n",
    "print(e[0])\n",
    "print(e[1])"
   ]
  },
  {
   "cell_type": "code",
   "execution_count": 30,
   "metadata": {
    "slideshow": {
     "slide_type": "subslide"
    }
   },
   "outputs": [
    {
     "name": "stdout",
     "output_type": "stream",
     "text": [
      "[[1 2 3]\n",
      " [4 5 6]]\n",
      "[1 4]\n",
      "[2 5]\n",
      "[3 6]\n"
     ]
    }
   ],
   "source": [
    "print(e)\n",
    "\n",
    "print(e[:, 0])\n",
    "print(e[:, 1])\n",
    "print(e[:, 2])"
   ]
  },
  {
   "cell_type": "code",
   "execution_count": 37,
   "metadata": {
    "slideshow": {
     "slide_type": "subslide"
    }
   },
   "outputs": [
    {
     "name": "stdout",
     "output_type": "stream",
     "text": [
      "[[1 2 3]\n",
      " [4 5 6]]\n",
      "5\n"
     ]
    }
   ],
   "source": [
    "print(e)\n",
    "\n",
    "print(e[0, 0])\n",
    "print(e[0, 1])\n",
    "print(e[1, 1])"
   ]
  },
  {
   "cell_type": "markdown",
   "metadata": {
    "slideshow": {
     "slide_type": "subslide"
    }
   },
   "source": [
    "La diferencia clave entre un arreglo y una lista es que los arreglos están diseñadas para manejar operaciones vectorizadas, mientras que una lista de Python no lo está.\n",
    "\n",
    "Eso significa que **si aplicas una función, se realiza en cada elemento del arreglo, en lugar de en todo el objeto de la matriz**."
   ]
  },
  {
   "cell_type": "markdown",
   "metadata": {
    "slideshow": {
     "slide_type": "subslide"
    }
   },
   "source": [
    "Supongamos que desea agregar el número 2 a cada elemento de la lista. La forma intuitiva de hacerlo es algo como esto:"
   ]
  },
  {
   "cell_type": "code",
   "execution_count": 39,
   "metadata": {
    "slideshow": {
     "slide_type": "fragment"
    }
   },
   "outputs": [
    {
     "name": "stdout",
     "output_type": "stream",
     "text": [
      "[[3 4 5]\n",
      " [6 7 8]]\n"
     ]
    }
   ],
   "source": [
    "# e es un arreglo definido previamente\n",
    "D = e + 2\n",
    "print(D)"
   ]
  },
  {
   "cell_type": "code",
   "execution_count": 47,
   "metadata": {
    "slideshow": {
     "slide_type": "fragment"
    }
   },
   "outputs": [],
   "source": [
    "# odd es una lista\n",
    "odd = [1, 3, 5]\n",
    "# odd + 2  # esta operación genera un error"
   ]
  },
  {
   "cell_type": "markdown",
   "metadata": {
    "slideshow": {
     "slide_type": "slide"
    }
   },
   "source": [
    "## Dataframes\n",
    "\n",
    "### ¿Qué son los DataFrames de Pandas?\n",
    "\n",
    "Aquellos que están familiarizados con R conocen los DataFrames como una forma de almacenar datos en cuadrículas rectangulares que pueden visualizarse fácilmente. Cada fila de estas cuadrículas corresponde a medidas o valores de una instancia, mientras que cada columna es un vector que contiene datos para una variable específica. \n",
    "\n",
    "Se trata de un set de datos organizado en forma tabular, tal como los que hemos trabajado al momento de analizar una base de datos usando los paquetes estadísticos tradicionales. Esto significa que las filas de DataFrame no necesitan contener, pero pueden contener, el mismo tipo de valores: pueden ser numéricos, de caracteres, lógicos, etc."
   ]
  },
  {
   "cell_type": "markdown",
   "metadata": {
    "slideshow": {
     "slide_type": "subslide"
    }
   },
   "source": [
    "### Creando DataFrames\n",
    "\n",
    "Obviamente, hacer tus DataFrames es tu primer paso en casi cualquier cosa que quieras hacer cuando se trata de manipular datos en Python. A veces, querrás comenzar desde cero, pero también puedes convertir otras estructuras de datos, como listas o arreglos de NumPy, a Pandas DataFrames. Veamos un ejemplo:"
   ]
  },
  {
   "cell_type": "code",
   "execution_count": 48,
   "metadata": {
    "slideshow": {
     "slide_type": "fragment"
    }
   },
   "outputs": [
    {
     "name": "stdout",
     "output_type": "stream",
     "text": [
      "         Col1  Col2\n",
      "Primero     1     2\n",
      "Segundo     3     4\n"
     ]
    }
   ],
   "source": [
    "import pandas as pd\n",
    "\n",
    "data = np.array([[1, 2], [3, 4]])\n",
    "col = [\"Col1\", \"Col2\"]\n",
    "idx = [\"Primero\", \"Segundo\"]\n",
    "\n",
    "df = pd.DataFrame(data=data, columns=col, index=idx)\n",
    "\n",
    "print(df)"
   ]
  },
  {
   "cell_type": "markdown",
   "metadata": {
    "slideshow": {
     "slide_type": "slide"
    }
   },
   "source": [
    "### Operaciones fundamentales de DataFrame\n",
    "\n",
    "Ahora que has colocado tus datos en una estructura Pandas DataFrame más conveniente, ¡es hora de empezar a trabajar! Esta primera sección te guiará a través de los primeros pasos para trabajar con DataFrames en Python. Cubrirá las operaciones básicas que puedes realizar en tu DataFrame recién creado: agregar, seleccionar, eliminar, renombrar, … ¡Lo que sea!"
   ]
  },
  {
   "cell_type": "markdown",
   "metadata": {
    "slideshow": {
     "slide_type": "subslide"
    }
   },
   "source": [
    "#### Seleccionar un índice o columna"
   ]
  },
  {
   "cell_type": "code",
   "execution_count": 50,
   "metadata": {
    "slideshow": {
     "slide_type": "fragment"
    }
   },
   "outputs": [
    {
     "name": "stdout",
     "output_type": "stream",
     "text": [
      "usando iloc:  1\n",
      "usando loc:  2\n",
      "usando at:  2\n",
      "usando iat:  1\n"
     ]
    }
   ],
   "source": [
    "# Using `iloc[]`\n",
    "print(\"usando iloc: \", df.iloc[0][0])\n",
    "\n",
    "# Using `loc[]`\n",
    "print(\"usando loc: \", df.loc[\"Primero\"][\"Col2\"])\n",
    "\n",
    "# Using `at[]`\n",
    "print(\"usando at: \", df.at[\"Primero\", \"Col2\"])\n",
    "\n",
    "# Using `iat[]`\n",
    "print(\"usando iat: \", df.iat[0, 0])"
   ]
  },
  {
   "cell_type": "code",
   "execution_count": 52,
   "metadata": {
    "slideshow": {
     "slide_type": "subslide"
    }
   },
   "outputs": [
    {
     "name": "stdout",
     "output_type": "stream",
     "text": [
      "Primero    1\n",
      "Segundo    3\n",
      "Name: Col1, dtype: int64\n",
      "Primero    2\n",
      "Segundo    4\n",
      "Name: Col2, dtype: int64\n"
     ]
    }
   ],
   "source": [
    "# The most common for columns\n",
    "print(df[\"Col1\"])\n",
    "print(df[\"Col2\"])"
   ]
  },
  {
   "cell_type": "markdown",
   "metadata": {
    "slideshow": {
     "slide_type": "subslide"
    }
   },
   "source": [
    "#### ¿Cómo seleccionamos solo los datos, las columnas o el índice?"
   ]
  },
  {
   "cell_type": "code",
   "execution_count": 58,
   "metadata": {
    "scrolled": true,
    "slideshow": {
     "slide_type": "fragment"
    }
   },
   "outputs": [
    {
     "name": "stdout",
     "output_type": "stream",
     "text": [
      "estos son los valores [[1 2]\n",
      " [3 4]]\n",
      "estos son los valores de las columnas  ['Col1' 'Col2']\n",
      "estos son los valores de los índices ['Primero' 'Segundo']\n"
     ]
    }
   ],
   "source": [
    "# get values\n",
    "vals = df.values\n",
    "print(\"estos son los valores\", vals)\n",
    "\n",
    "# get columns\n",
    "cls = df.columns.values\n",
    "print(\"estos son los valores de las columnas \", cls)\n",
    "\n",
    "# get columns\n",
    "idx = df.index.values\n",
    "print(\"estos son los valores de los índices\", idx)"
   ]
  },
  {
   "cell_type": "markdown",
   "metadata": {
    "slideshow": {
     "slide_type": "fragment"
    }
   },
   "source": [
    "¡Desde aquí son posibles todas las mismas operaciones realizadas en listas y matrices!"
   ]
  },
  {
   "cell_type": "markdown",
   "metadata": {
    "slideshow": {
     "slide_type": "slide"
    }
   },
   "source": [
    "### Importar datos desde archivos externos\n",
    "\n",
    "Con Pandas tenemos la posibilidad de importar archivos provenientes de otras plataformas como Microsoft Excel o SPSS con las que se opera en el flujo cotidiano de una investigación. Para ello contamos una familia de funciones dedicadas que se llaman `read`."
   ]
  },
  {
   "cell_type": "markdown",
   "metadata": {
    "slideshow": {
     "slide_type": "slide"
    }
   },
   "source": [
    "#### Archivos CSV\n",
    "\n",
    "Partamos por el caso más simple: los archivos CSV."
   ]
  },
  {
   "cell_type": "code",
   "execution_count": 60,
   "metadata": {
    "slideshow": {
     "slide_type": "fragment"
    }
   },
   "outputs": [
    {
     "data": {
      "text/html": [
       "<div>\n",
       "<style scoped>\n",
       "    .dataframe tbody tr th:only-of-type {\n",
       "        vertical-align: middle;\n",
       "    }\n",
       "\n",
       "    .dataframe tbody tr th {\n",
       "        vertical-align: top;\n",
       "    }\n",
       "\n",
       "    .dataframe thead th {\n",
       "        text-align: right;\n",
       "    }\n",
       "</style>\n",
       "<table border=\"1\" class=\"dataframe\">\n",
       "  <thead>\n",
       "    <tr style=\"text-align: right;\">\n",
       "      <th></th>\n",
       "      <th>name</th>\n",
       "      <th>gender</th>\n",
       "      <th>height</th>\n",
       "      <th>weight</th>\n",
       "      <th>eyecolor</th>\n",
       "      <th>haircolor</th>\n",
       "      <th>skincolor</th>\n",
       "      <th>homeland</th>\n",
       "      <th>born</th>\n",
       "      <th>died</th>\n",
       "      <th>jedi</th>\n",
       "      <th>species</th>\n",
       "      <th>weapon</th>\n",
       "    </tr>\n",
       "  </thead>\n",
       "  <tbody>\n",
       "    <tr>\n",
       "      <th>0</th>\n",
       "      <td>Anakin Skywalker</td>\n",
       "      <td>male</td>\n",
       "      <td>1.88</td>\n",
       "      <td>84.0</td>\n",
       "      <td>blue</td>\n",
       "      <td>blond</td>\n",
       "      <td>fair</td>\n",
       "      <td>Tatooine</td>\n",
       "      <td>41.9BBY</td>\n",
       "      <td>4ABY</td>\n",
       "      <td>yes_jedi</td>\n",
       "      <td>human</td>\n",
       "      <td>lightsaber</td>\n",
       "    </tr>\n",
       "    <tr>\n",
       "      <th>1</th>\n",
       "      <td>Padme Amidala</td>\n",
       "      <td>female</td>\n",
       "      <td>1.65</td>\n",
       "      <td>45.0</td>\n",
       "      <td>brown</td>\n",
       "      <td>brown</td>\n",
       "      <td>light</td>\n",
       "      <td>Naboo</td>\n",
       "      <td>46BBY</td>\n",
       "      <td>19BBY</td>\n",
       "      <td>no_jedi</td>\n",
       "      <td>human</td>\n",
       "      <td>unarmed</td>\n",
       "    </tr>\n",
       "    <tr>\n",
       "      <th>2</th>\n",
       "      <td>Luke Skywalker</td>\n",
       "      <td>male</td>\n",
       "      <td>1.72</td>\n",
       "      <td>77.0</td>\n",
       "      <td>blue</td>\n",
       "      <td>blond</td>\n",
       "      <td>fair</td>\n",
       "      <td>Tatooine</td>\n",
       "      <td>19BBY</td>\n",
       "      <td>unk_died</td>\n",
       "      <td>yes_jedi</td>\n",
       "      <td>human</td>\n",
       "      <td>lightsaber</td>\n",
       "    </tr>\n",
       "    <tr>\n",
       "      <th>3</th>\n",
       "      <td>Leia Organa</td>\n",
       "      <td>female</td>\n",
       "      <td>1.50</td>\n",
       "      <td>49.0</td>\n",
       "      <td>brown</td>\n",
       "      <td>brown</td>\n",
       "      <td>light</td>\n",
       "      <td>Alderaan</td>\n",
       "      <td>19BBY</td>\n",
       "      <td>unk_died</td>\n",
       "      <td>no_jedi</td>\n",
       "      <td>human</td>\n",
       "      <td>blaster</td>\n",
       "    </tr>\n",
       "    <tr>\n",
       "      <th>4</th>\n",
       "      <td>Qui-Gon Jinn</td>\n",
       "      <td>male</td>\n",
       "      <td>1.93</td>\n",
       "      <td>88.5</td>\n",
       "      <td>blue</td>\n",
       "      <td>brown</td>\n",
       "      <td>light</td>\n",
       "      <td>unk_planet</td>\n",
       "      <td>92BBY</td>\n",
       "      <td>32BBY</td>\n",
       "      <td>yes_jedi</td>\n",
       "      <td>human</td>\n",
       "      <td>lightsaber</td>\n",
       "    </tr>\n",
       "    <tr>\n",
       "      <th>5</th>\n",
       "      <td>Obi-Wan Kenobi</td>\n",
       "      <td>male</td>\n",
       "      <td>1.82</td>\n",
       "      <td>77.0</td>\n",
       "      <td>bluegray</td>\n",
       "      <td>auburn</td>\n",
       "      <td>fair</td>\n",
       "      <td>Stewjon</td>\n",
       "      <td>57BBY</td>\n",
       "      <td>0BBY</td>\n",
       "      <td>yes_jedi</td>\n",
       "      <td>human</td>\n",
       "      <td>lightsaber</td>\n",
       "    </tr>\n",
       "    <tr>\n",
       "      <th>6</th>\n",
       "      <td>Han Solo</td>\n",
       "      <td>male</td>\n",
       "      <td>1.80</td>\n",
       "      <td>80.0</td>\n",
       "      <td>brown</td>\n",
       "      <td>brown</td>\n",
       "      <td>light</td>\n",
       "      <td>Corellia</td>\n",
       "      <td>29BBY</td>\n",
       "      <td>unk_died</td>\n",
       "      <td>no_jedi</td>\n",
       "      <td>human</td>\n",
       "      <td>blaster</td>\n",
       "    </tr>\n",
       "    <tr>\n",
       "      <th>7</th>\n",
       "      <td>Sheev Palpatine</td>\n",
       "      <td>male</td>\n",
       "      <td>1.73</td>\n",
       "      <td>75.0</td>\n",
       "      <td>blue</td>\n",
       "      <td>red</td>\n",
       "      <td>pale</td>\n",
       "      <td>Naboo</td>\n",
       "      <td>82BBY</td>\n",
       "      <td>10ABY</td>\n",
       "      <td>no_jedi</td>\n",
       "      <td>human</td>\n",
       "      <td>force-lightning</td>\n",
       "    </tr>\n",
       "    <tr>\n",
       "      <th>8</th>\n",
       "      <td>R2-D2</td>\n",
       "      <td>male</td>\n",
       "      <td>0.96</td>\n",
       "      <td>32.0</td>\n",
       "      <td>NaN</td>\n",
       "      <td>NaN</td>\n",
       "      <td>NaN</td>\n",
       "      <td>Naboo</td>\n",
       "      <td>33BBY</td>\n",
       "      <td>unk_died</td>\n",
       "      <td>no_jedi</td>\n",
       "      <td>droid</td>\n",
       "      <td>unarmed</td>\n",
       "    </tr>\n",
       "    <tr>\n",
       "      <th>9</th>\n",
       "      <td>C-3PO</td>\n",
       "      <td>male</td>\n",
       "      <td>1.67</td>\n",
       "      <td>75.0</td>\n",
       "      <td>NaN</td>\n",
       "      <td>NaN</td>\n",
       "      <td>NaN</td>\n",
       "      <td>Tatooine</td>\n",
       "      <td>112BBY</td>\n",
       "      <td>3ABY</td>\n",
       "      <td>no_jedi</td>\n",
       "      <td>droid</td>\n",
       "      <td>unarmed</td>\n",
       "    </tr>\n",
       "    <tr>\n",
       "      <th>10</th>\n",
       "      <td>Yoda</td>\n",
       "      <td>male</td>\n",
       "      <td>0.66</td>\n",
       "      <td>17.0</td>\n",
       "      <td>brown</td>\n",
       "      <td>brown</td>\n",
       "      <td>green</td>\n",
       "      <td>unk_planet</td>\n",
       "      <td>896BBY</td>\n",
       "      <td>4ABY</td>\n",
       "      <td>yes_jedi</td>\n",
       "      <td>yoda</td>\n",
       "      <td>lightsaber</td>\n",
       "    </tr>\n",
       "    <tr>\n",
       "      <th>11</th>\n",
       "      <td>Darth Maul</td>\n",
       "      <td>male</td>\n",
       "      <td>1.75</td>\n",
       "      <td>80.0</td>\n",
       "      <td>yellow</td>\n",
       "      <td>none</td>\n",
       "      <td>red</td>\n",
       "      <td>Dathomir</td>\n",
       "      <td>54BBY</td>\n",
       "      <td>unk_died</td>\n",
       "      <td>no_jedi</td>\n",
       "      <td>dathomirian</td>\n",
       "      <td>lightsaber</td>\n",
       "    </tr>\n",
       "    <tr>\n",
       "      <th>12</th>\n",
       "      <td>Dooku</td>\n",
       "      <td>male</td>\n",
       "      <td>1.93</td>\n",
       "      <td>86.0</td>\n",
       "      <td>brown</td>\n",
       "      <td>brown</td>\n",
       "      <td>light</td>\n",
       "      <td>Serenno</td>\n",
       "      <td>102BBY</td>\n",
       "      <td>19BBY</td>\n",
       "      <td>yes_jedi</td>\n",
       "      <td>human</td>\n",
       "      <td>lightsaber</td>\n",
       "    </tr>\n",
       "    <tr>\n",
       "      <th>13</th>\n",
       "      <td>Chewbacca</td>\n",
       "      <td>male</td>\n",
       "      <td>2.28</td>\n",
       "      <td>112.0</td>\n",
       "      <td>blue</td>\n",
       "      <td>brown</td>\n",
       "      <td>NaN</td>\n",
       "      <td>Kashyyyk</td>\n",
       "      <td>200BBY</td>\n",
       "      <td>25ABY</td>\n",
       "      <td>no_jedi</td>\n",
       "      <td>wookiee</td>\n",
       "      <td>bowcaster</td>\n",
       "    </tr>\n",
       "    <tr>\n",
       "      <th>14</th>\n",
       "      <td>Jabba</td>\n",
       "      <td>male</td>\n",
       "      <td>3.90</td>\n",
       "      <td>NaN</td>\n",
       "      <td>yellow</td>\n",
       "      <td>none</td>\n",
       "      <td>tan-green</td>\n",
       "      <td>Tatooine</td>\n",
       "      <td>unk_born</td>\n",
       "      <td>4ABY</td>\n",
       "      <td>no_jedi</td>\n",
       "      <td>hutt</td>\n",
       "      <td>unarmed</td>\n",
       "    </tr>\n",
       "    <tr>\n",
       "      <th>15</th>\n",
       "      <td>Lando Calrissian</td>\n",
       "      <td>male</td>\n",
       "      <td>1.78</td>\n",
       "      <td>79.0</td>\n",
       "      <td>brown</td>\n",
       "      <td>blank</td>\n",
       "      <td>dark</td>\n",
       "      <td>Socorro</td>\n",
       "      <td>31BBY</td>\n",
       "      <td>unk_died</td>\n",
       "      <td>no_jedi</td>\n",
       "      <td>human</td>\n",
       "      <td>blaster</td>\n",
       "    </tr>\n",
       "    <tr>\n",
       "      <th>16</th>\n",
       "      <td>Boba Fett</td>\n",
       "      <td>male</td>\n",
       "      <td>1.83</td>\n",
       "      <td>78.0</td>\n",
       "      <td>brown</td>\n",
       "      <td>black</td>\n",
       "      <td>brown</td>\n",
       "      <td>Kamino</td>\n",
       "      <td>31.5BBY</td>\n",
       "      <td>unk_died</td>\n",
       "      <td>no_jedi</td>\n",
       "      <td>human</td>\n",
       "      <td>blaster</td>\n",
       "    </tr>\n",
       "    <tr>\n",
       "      <th>17</th>\n",
       "      <td>Jango Fett</td>\n",
       "      <td>male</td>\n",
       "      <td>1.83</td>\n",
       "      <td>79.0</td>\n",
       "      <td>brown</td>\n",
       "      <td>black</td>\n",
       "      <td>brown</td>\n",
       "      <td>ConcordDawn</td>\n",
       "      <td>66BBY</td>\n",
       "      <td>22BBY</td>\n",
       "      <td>no_jedi</td>\n",
       "      <td>human</td>\n",
       "      <td>blaster</td>\n",
       "    </tr>\n",
       "    <tr>\n",
       "      <th>18</th>\n",
       "      <td>Grievous</td>\n",
       "      <td>male</td>\n",
       "      <td>2.16</td>\n",
       "      <td>159.0</td>\n",
       "      <td>gold</td>\n",
       "      <td>black</td>\n",
       "      <td>orange</td>\n",
       "      <td>Kalee</td>\n",
       "      <td>unk_born</td>\n",
       "      <td>19BBY</td>\n",
       "      <td>no_jedi</td>\n",
       "      <td>kaleesh</td>\n",
       "      <td>slugthrower</td>\n",
       "    </tr>\n",
       "    <tr>\n",
       "      <th>19</th>\n",
       "      <td>Chief Chirpa</td>\n",
       "      <td>male</td>\n",
       "      <td>1.00</td>\n",
       "      <td>50.0</td>\n",
       "      <td>black</td>\n",
       "      <td>gray</td>\n",
       "      <td>brown</td>\n",
       "      <td>Endor</td>\n",
       "      <td>unk_born</td>\n",
       "      <td>4ABY</td>\n",
       "      <td>no_jedi</td>\n",
       "      <td>ewok</td>\n",
       "      <td>spear</td>\n",
       "    </tr>\n",
       "  </tbody>\n",
       "</table>\n",
       "</div>"
      ],
      "text/plain": [
       "                name  gender  height  weight  eyecolor haircolor  skincolor  \\\n",
       "0   Anakin Skywalker    male    1.88    84.0      blue     blond       fair   \n",
       "1      Padme Amidala  female    1.65    45.0     brown     brown      light   \n",
       "2     Luke Skywalker    male    1.72    77.0      blue     blond       fair   \n",
       "3        Leia Organa  female    1.50    49.0     brown     brown      light   \n",
       "4       Qui-Gon Jinn    male    1.93    88.5      blue     brown      light   \n",
       "5     Obi-Wan Kenobi    male    1.82    77.0  bluegray    auburn       fair   \n",
       "6           Han Solo    male    1.80    80.0     brown     brown      light   \n",
       "7    Sheev Palpatine    male    1.73    75.0      blue       red       pale   \n",
       "8              R2-D2    male    0.96    32.0       NaN       NaN        NaN   \n",
       "9              C-3PO    male    1.67    75.0       NaN       NaN        NaN   \n",
       "10              Yoda    male    0.66    17.0     brown     brown      green   \n",
       "11        Darth Maul    male    1.75    80.0    yellow      none        red   \n",
       "12             Dooku    male    1.93    86.0     brown     brown      light   \n",
       "13         Chewbacca    male    2.28   112.0      blue     brown        NaN   \n",
       "14             Jabba    male    3.90     NaN    yellow      none  tan-green   \n",
       "15  Lando Calrissian    male    1.78    79.0     brown     blank       dark   \n",
       "16         Boba Fett    male    1.83    78.0     brown     black      brown   \n",
       "17        Jango Fett    male    1.83    79.0     brown     black      brown   \n",
       "18          Grievous    male    2.16   159.0      gold     black     orange   \n",
       "19      Chief Chirpa    male    1.00    50.0     black      gray      brown   \n",
       "\n",
       "       homeland      born      died      jedi      species           weapon  \n",
       "0      Tatooine   41.9BBY      4ABY  yes_jedi        human       lightsaber  \n",
       "1         Naboo     46BBY     19BBY   no_jedi        human          unarmed  \n",
       "2      Tatooine     19BBY  unk_died  yes_jedi        human       lightsaber  \n",
       "3      Alderaan     19BBY  unk_died   no_jedi        human          blaster  \n",
       "4    unk_planet     92BBY     32BBY  yes_jedi        human       lightsaber  \n",
       "5       Stewjon     57BBY      0BBY  yes_jedi        human       lightsaber  \n",
       "6      Corellia     29BBY  unk_died   no_jedi        human          blaster  \n",
       "7         Naboo     82BBY     10ABY   no_jedi        human  force-lightning  \n",
       "8         Naboo     33BBY  unk_died   no_jedi        droid          unarmed  \n",
       "9      Tatooine    112BBY      3ABY   no_jedi        droid          unarmed  \n",
       "10   unk_planet    896BBY      4ABY  yes_jedi         yoda       lightsaber  \n",
       "11     Dathomir     54BBY  unk_died   no_jedi  dathomirian       lightsaber  \n",
       "12      Serenno    102BBY     19BBY  yes_jedi        human       lightsaber  \n",
       "13     Kashyyyk    200BBY     25ABY   no_jedi      wookiee        bowcaster  \n",
       "14     Tatooine  unk_born      4ABY   no_jedi         hutt          unarmed  \n",
       "15      Socorro     31BBY  unk_died   no_jedi        human          blaster  \n",
       "16       Kamino   31.5BBY  unk_died   no_jedi        human          blaster  \n",
       "17  ConcordDawn     66BBY     22BBY   no_jedi        human          blaster  \n",
       "18        Kalee  unk_born     19BBY   no_jedi      kaleesh      slugthrower  \n",
       "19        Endor  unk_born      4ABY   no_jedi         ewok            spear  "
      ]
     },
     "execution_count": 60,
     "metadata": {},
     "output_type": "execute_result"
    }
   ],
   "source": [
    "sw = pd.read_csv(\n",
    "    \"https://raw.githubusercontent.com/gastonstat/matrix4sl/master/data/starwars.csv\"\n",
    ")\n",
    "sw"
   ]
  },
  {
   "cell_type": "markdown",
   "metadata": {
    "slideshow": {
     "slide_type": "subslide"
    }
   },
   "source": [
    "En caso queramos visualizar solo las primeras entradas de nuestra base de datos, podemos utilizar el método `head()`:"
   ]
  },
  {
   "cell_type": "code",
   "execution_count": 64,
   "metadata": {
    "slideshow": {
     "slide_type": "fragment"
    }
   },
   "outputs": [
    {
     "data": {
      "text/html": [
       "<div>\n",
       "<style scoped>\n",
       "    .dataframe tbody tr th:only-of-type {\n",
       "        vertical-align: middle;\n",
       "    }\n",
       "\n",
       "    .dataframe tbody tr th {\n",
       "        vertical-align: top;\n",
       "    }\n",
       "\n",
       "    .dataframe thead th {\n",
       "        text-align: right;\n",
       "    }\n",
       "</style>\n",
       "<table border=\"1\" class=\"dataframe\">\n",
       "  <thead>\n",
       "    <tr style=\"text-align: right;\">\n",
       "      <th></th>\n",
       "      <th>name</th>\n",
       "      <th>gender</th>\n",
       "      <th>height</th>\n",
       "      <th>weight</th>\n",
       "      <th>eyecolor</th>\n",
       "      <th>haircolor</th>\n",
       "      <th>skincolor</th>\n",
       "      <th>homeland</th>\n",
       "      <th>born</th>\n",
       "      <th>died</th>\n",
       "      <th>jedi</th>\n",
       "      <th>species</th>\n",
       "      <th>weapon</th>\n",
       "    </tr>\n",
       "  </thead>\n",
       "  <tbody>\n",
       "    <tr>\n",
       "      <th>0</th>\n",
       "      <td>Anakin Skywalker</td>\n",
       "      <td>male</td>\n",
       "      <td>1.88</td>\n",
       "      <td>84.0</td>\n",
       "      <td>blue</td>\n",
       "      <td>blond</td>\n",
       "      <td>fair</td>\n",
       "      <td>Tatooine</td>\n",
       "      <td>41.9BBY</td>\n",
       "      <td>4ABY</td>\n",
       "      <td>yes_jedi</td>\n",
       "      <td>human</td>\n",
       "      <td>lightsaber</td>\n",
       "    </tr>\n",
       "    <tr>\n",
       "      <th>1</th>\n",
       "      <td>Padme Amidala</td>\n",
       "      <td>female</td>\n",
       "      <td>1.65</td>\n",
       "      <td>45.0</td>\n",
       "      <td>brown</td>\n",
       "      <td>brown</td>\n",
       "      <td>light</td>\n",
       "      <td>Naboo</td>\n",
       "      <td>46BBY</td>\n",
       "      <td>19BBY</td>\n",
       "      <td>no_jedi</td>\n",
       "      <td>human</td>\n",
       "      <td>unarmed</td>\n",
       "    </tr>\n",
       "    <tr>\n",
       "      <th>2</th>\n",
       "      <td>Luke Skywalker</td>\n",
       "      <td>male</td>\n",
       "      <td>1.72</td>\n",
       "      <td>77.0</td>\n",
       "      <td>blue</td>\n",
       "      <td>blond</td>\n",
       "      <td>fair</td>\n",
       "      <td>Tatooine</td>\n",
       "      <td>19BBY</td>\n",
       "      <td>unk_died</td>\n",
       "      <td>yes_jedi</td>\n",
       "      <td>human</td>\n",
       "      <td>lightsaber</td>\n",
       "    </tr>\n",
       "    <tr>\n",
       "      <th>3</th>\n",
       "      <td>Leia Organa</td>\n",
       "      <td>female</td>\n",
       "      <td>1.50</td>\n",
       "      <td>49.0</td>\n",
       "      <td>brown</td>\n",
       "      <td>brown</td>\n",
       "      <td>light</td>\n",
       "      <td>Alderaan</td>\n",
       "      <td>19BBY</td>\n",
       "      <td>unk_died</td>\n",
       "      <td>no_jedi</td>\n",
       "      <td>human</td>\n",
       "      <td>blaster</td>\n",
       "    </tr>\n",
       "    <tr>\n",
       "      <th>4</th>\n",
       "      <td>Qui-Gon Jinn</td>\n",
       "      <td>male</td>\n",
       "      <td>1.93</td>\n",
       "      <td>88.5</td>\n",
       "      <td>blue</td>\n",
       "      <td>brown</td>\n",
       "      <td>light</td>\n",
       "      <td>unk_planet</td>\n",
       "      <td>92BBY</td>\n",
       "      <td>32BBY</td>\n",
       "      <td>yes_jedi</td>\n",
       "      <td>human</td>\n",
       "      <td>lightsaber</td>\n",
       "    </tr>\n",
       "  </tbody>\n",
       "</table>\n",
       "</div>"
      ],
      "text/plain": [
       "               name  gender  height  weight eyecolor haircolor skincolor  \\\n",
       "0  Anakin Skywalker    male    1.88    84.0     blue     blond      fair   \n",
       "1     Padme Amidala  female    1.65    45.0    brown     brown     light   \n",
       "2    Luke Skywalker    male    1.72    77.0     blue     blond      fair   \n",
       "3       Leia Organa  female    1.50    49.0    brown     brown     light   \n",
       "4      Qui-Gon Jinn    male    1.93    88.5     blue     brown     light   \n",
       "\n",
       "     homeland     born      died      jedi species      weapon  \n",
       "0    Tatooine  41.9BBY      4ABY  yes_jedi   human  lightsaber  \n",
       "1       Naboo    46BBY     19BBY   no_jedi   human     unarmed  \n",
       "2    Tatooine    19BBY  unk_died  yes_jedi   human  lightsaber  \n",
       "3    Alderaan    19BBY  unk_died   no_jedi   human     blaster  \n",
       "4  unk_planet    92BBY     32BBY  yes_jedi   human  lightsaber  "
      ]
     },
     "execution_count": 64,
     "metadata": {},
     "output_type": "execute_result"
    }
   ],
   "source": [
    "sw.head(5)"
   ]
  },
  {
   "cell_type": "markdown",
   "metadata": {
    "slideshow": {
     "slide_type": "subslide"
    }
   },
   "source": [
    "Puede ocurrir que al momento de importar los datos, necesites especificar el tipo de delimitador:"
   ]
  },
  {
   "cell_type": "code",
   "execution_count": 91,
   "metadata": {
    "slideshow": {
     "slide_type": "fragment"
    }
   },
   "outputs": [
    {
     "data": {
      "text/html": [
       "<div>\n",
       "<style scoped>\n",
       "    .dataframe tbody tr th:only-of-type {\n",
       "        vertical-align: middle;\n",
       "    }\n",
       "\n",
       "    .dataframe tbody tr th {\n",
       "        vertical-align: top;\n",
       "    }\n",
       "\n",
       "    .dataframe thead th {\n",
       "        text-align: right;\n",
       "    }\n",
       "</style>\n",
       "<table border=\"1\" class=\"dataframe\">\n",
       "  <thead>\n",
       "    <tr style=\"text-align: right;\">\n",
       "      <th></th>\n",
       "      <th>sex</th>\n",
       "      <th>weight</th>\n",
       "      <th>height</th>\n",
       "      <th>reportedWeight</th>\n",
       "      <th>reportedHeight</th>\n",
       "    </tr>\n",
       "  </thead>\n",
       "  <tbody>\n",
       "    <tr>\n",
       "      <th>1</th>\n",
       "      <td>M</td>\n",
       "      <td>77</td>\n",
       "      <td>182</td>\n",
       "      <td>77.0</td>\n",
       "      <td>180.0</td>\n",
       "    </tr>\n",
       "    <tr>\n",
       "      <th>2</th>\n",
       "      <td>F</td>\n",
       "      <td>58</td>\n",
       "      <td>161</td>\n",
       "      <td>51.0</td>\n",
       "      <td>159.0</td>\n",
       "    </tr>\n",
       "    <tr>\n",
       "      <th>3</th>\n",
       "      <td>F</td>\n",
       "      <td>53</td>\n",
       "      <td>161</td>\n",
       "      <td>54.0</td>\n",
       "      <td>158.0</td>\n",
       "    </tr>\n",
       "    <tr>\n",
       "      <th>4</th>\n",
       "      <td>M</td>\n",
       "      <td>68</td>\n",
       "      <td>177</td>\n",
       "      <td>70.0</td>\n",
       "      <td>175.0</td>\n",
       "    </tr>\n",
       "    <tr>\n",
       "      <th>5</th>\n",
       "      <td>F</td>\n",
       "      <td>59</td>\n",
       "      <td>157</td>\n",
       "      <td>59.0</td>\n",
       "      <td>155.0</td>\n",
       "    </tr>\n",
       "  </tbody>\n",
       "</table>\n",
       "</div>"
      ],
      "text/plain": [
       "  sex  weight  height  reportedWeight  reportedHeight\n",
       "1   M      77     182            77.0           180.0\n",
       "2   F      58     161            51.0           159.0\n",
       "3   F      53     161            54.0           158.0\n",
       "4   M      68     177            70.0           175.0\n",
       "5   F      59     157            59.0           155.0"
      ]
     },
     "execution_count": 91,
     "metadata": {},
     "output_type": "execute_result"
    }
   ],
   "source": [
    "davis_data = pd.read_csv(\n",
    "    \"https://socialsciences.mcmaster.ca/jfox/Books/Applied-Regression-3E/datasets/Davis.txt\",\n",
    "    sep=r\"\\s{1,}\",\n",
    "    engine=\"python\",\n",
    ")\n",
    "davis_data.head()"
   ]
  },
  {
   "cell_type": "markdown",
   "metadata": {
    "slideshow": {
     "slide_type": "fragment"
    }
   },
   "source": [
    "Puede que en algunos casos sea necesario especificar el signo que se utiliza para separar los decimales. En ese caso, se puede añadir el argumento `decimal` al método `read_csv`."
   ]
  },
  {
   "cell_type": "markdown",
   "metadata": {
    "slideshow": {
     "slide_type": "slide"
    }
   },
   "source": [
    "#### Archivos de Microsoft Excel\n",
    "\n",
    "De manera similar, podemos emplear la función dedicada:"
   ]
  },
  {
   "cell_type": "code",
   "execution_count": 69,
   "metadata": {
    "slideshow": {
     "slide_type": "fragment"
    }
   },
   "outputs": [
    {
     "data": {
      "text/html": [
       "<div>\n",
       "<style scoped>\n",
       "    .dataframe tbody tr th:only-of-type {\n",
       "        vertical-align: middle;\n",
       "    }\n",
       "\n",
       "    .dataframe tbody tr th {\n",
       "        vertical-align: top;\n",
       "    }\n",
       "\n",
       "    .dataframe thead th {\n",
       "        text-align: right;\n",
       "    }\n",
       "</style>\n",
       "<table border=\"1\" class=\"dataframe\">\n",
       "  <thead>\n",
       "    <tr style=\"text-align: right;\">\n",
       "      <th></th>\n",
       "      <th>Participante</th>\n",
       "      <th>Sexo</th>\n",
       "      <th>Edad</th>\n",
       "      <th>Ocupacion</th>\n",
       "      <th>Va_Waving</th>\n",
       "      <th>Va_Pointing</th>\n",
       "      <th>Va_Negacion</th>\n",
       "      <th>Va_Explicar</th>\n",
       "      <th>Va_Tristeza</th>\n",
       "      <th>Va_Nodding</th>\n",
       "      <th>...</th>\n",
       "      <th>Int_Nodding</th>\n",
       "      <th>Atr_Velocidad</th>\n",
       "      <th>Atr_Interes</th>\n",
       "      <th>Atr_Expresiv</th>\n",
       "      <th>Atr_Entendib</th>\n",
       "      <th>GS_ANTRO</th>\n",
       "      <th>GS_ANIM</th>\n",
       "      <th>GS_LIKEAB</th>\n",
       "      <th>GS_INTELL</th>\n",
       "      <th>GS_SAFETY</th>\n",
       "    </tr>\n",
       "  </thead>\n",
       "  <tbody>\n",
       "    <tr>\n",
       "      <th>0</th>\n",
       "      <td>1</td>\n",
       "      <td>1</td>\n",
       "      <td>﻿1</td>\n",
       "      <td>1</td>\n",
       "      <td>4</td>\n",
       "      <td>1</td>\n",
       "      <td>2</td>\n",
       "      <td>2</td>\n",
       "      <td>2</td>\n",
       "      <td>3</td>\n",
       "      <td>...</td>\n",
       "      <td>1</td>\n",
       "      <td>4</td>\n",
       "      <td>2</td>\n",
       "      <td>5</td>\n",
       "      <td>6</td>\n",
       "      <td>2.8</td>\n",
       "      <td>3.333333</td>\n",
       "      <td>4.2</td>\n",
       "      <td>4.4</td>\n",
       "      <td>2.333333</td>\n",
       "    </tr>\n",
       "    <tr>\n",
       "      <th>1</th>\n",
       "      <td>2</td>\n",
       "      <td>1</td>\n",
       "      <td>﻿1</td>\n",
       "      <td>1</td>\n",
       "      <td>4</td>\n",
       "      <td>3</td>\n",
       "      <td>2</td>\n",
       "      <td>5</td>\n",
       "      <td>3</td>\n",
       "      <td>4</td>\n",
       "      <td>...</td>\n",
       "      <td>1</td>\n",
       "      <td>4</td>\n",
       "      <td>5</td>\n",
       "      <td>3</td>\n",
       "      <td>3</td>\n",
       "      <td>2.6</td>\n",
       "      <td>2.833333</td>\n",
       "      <td>3.2</td>\n",
       "      <td>3.2</td>\n",
       "      <td>2.333333</td>\n",
       "    </tr>\n",
       "    <tr>\n",
       "      <th>2</th>\n",
       "      <td>3</td>\n",
       "      <td>1</td>\n",
       "      <td>﻿1</td>\n",
       "      <td>1</td>\n",
       "      <td>5</td>\n",
       "      <td>2</td>\n",
       "      <td>1</td>\n",
       "      <td>3</td>\n",
       "      <td>2</td>\n",
       "      <td>3</td>\n",
       "      <td>...</td>\n",
       "      <td>1</td>\n",
       "      <td>3</td>\n",
       "      <td>3</td>\n",
       "      <td>3</td>\n",
       "      <td>5</td>\n",
       "      <td>2.8</td>\n",
       "      <td>2.666667</td>\n",
       "      <td>3.0</td>\n",
       "      <td>3.2</td>\n",
       "      <td>3.000000</td>\n",
       "    </tr>\n",
       "    <tr>\n",
       "      <th>3</th>\n",
       "      <td>4</td>\n",
       "      <td>1</td>\n",
       "      <td>﻿2</td>\n",
       "      <td>3</td>\n",
       "      <td>5</td>\n",
       "      <td>5</td>\n",
       "      <td>5</td>\n",
       "      <td>5</td>\n",
       "      <td>4</td>\n",
       "      <td>4</td>\n",
       "      <td>...</td>\n",
       "      <td>1</td>\n",
       "      <td>6</td>\n",
       "      <td>6</td>\n",
       "      <td>6</td>\n",
       "      <td>6</td>\n",
       "      <td>4.0</td>\n",
       "      <td>3.333333</td>\n",
       "      <td>4.6</td>\n",
       "      <td>3.0</td>\n",
       "      <td>2.666667</td>\n",
       "    </tr>\n",
       "    <tr>\n",
       "      <th>4</th>\n",
       "      <td>5</td>\n",
       "      <td>1</td>\n",
       "      <td>﻿2</td>\n",
       "      <td>3</td>\n",
       "      <td>5</td>\n",
       "      <td>5</td>\n",
       "      <td>5</td>\n",
       "      <td>5</td>\n",
       "      <td>4</td>\n",
       "      <td>4</td>\n",
       "      <td>...</td>\n",
       "      <td>1</td>\n",
       "      <td>6</td>\n",
       "      <td>6</td>\n",
       "      <td>6</td>\n",
       "      <td>6</td>\n",
       "      <td>4.0</td>\n",
       "      <td>3.333333</td>\n",
       "      <td>4.6</td>\n",
       "      <td>3.0</td>\n",
       "      <td>2.666667</td>\n",
       "    </tr>\n",
       "  </tbody>\n",
       "</table>\n",
       "<p>5 rows × 25 columns</p>\n",
       "</div>"
      ],
      "text/plain": [
       "   Participante  Sexo Edad  Ocupacion  Va_Waving  Va_Pointing  Va_Negacion  \\\n",
       "0             1     1   ﻿1          1          4            1            2   \n",
       "1             2     1   ﻿1          1          4            3            2   \n",
       "2             3     1   ﻿1          1          5            2            1   \n",
       "3             4     1   ﻿2          3          5            5            5   \n",
       "4             5     1   ﻿2          3          5            5            5   \n",
       "\n",
       "   Va_Explicar  Va_Tristeza  Va_Nodding  ...  Int_Nodding  Atr_Velocidad  \\\n",
       "0            2            2           3  ...            1              4   \n",
       "1            5            3           4  ...            1              4   \n",
       "2            3            2           3  ...            1              3   \n",
       "3            5            4           4  ...            1              6   \n",
       "4            5            4           4  ...            1              6   \n",
       "\n",
       "   Atr_Interes  Atr_Expresiv  Atr_Entendib  GS_ANTRO   GS_ANIM  GS_LIKEAB  \\\n",
       "0            2             5             6       2.8  3.333333        4.2   \n",
       "1            5             3             3       2.6  2.833333        3.2   \n",
       "2            3             3             5       2.8  2.666667        3.0   \n",
       "3            6             6             6       4.0  3.333333        4.6   \n",
       "4            6             6             6       4.0  3.333333        4.6   \n",
       "\n",
       "   GS_INTELL  GS_SAFETY  \n",
       "0        4.4   2.333333  \n",
       "1        3.2   2.333333  \n",
       "2        3.2   3.000000  \n",
       "3        3.0   2.666667  \n",
       "4        3.0   2.666667  \n",
       "\n",
       "[5 rows x 25 columns]"
      ]
     },
     "execution_count": 69,
     "metadata": {},
     "output_type": "execute_result"
    }
   ],
   "source": [
    "robot_data = pd.read_excel(\n",
    "    \"https://github.com/renatoparedes/IntroPythonInvestigacionPsicologia/raw/master/AnalisisdeDatosCuantitativos/robot_data.xlsx\"\n",
    ")\n",
    "robot_data.head()"
   ]
  },
  {
   "cell_type": "markdown",
   "metadata": {
    "slideshow": {
     "slide_type": "slide"
    }
   },
   "source": [
    "#### Archivos de IBM SPSS\n",
    "\n",
    "Los archivos de SPSS pueden ser leidos por Pandas, pero solo si estos se encuentran en el repositorio local (no pueden emplearse URLs como en los casos anteriores). \n",
    "\n",
    "Al trabajar con Google Colab, hace falta cargar el archivo deseado a la nube. Además se requiere instalar manualmente la librería `pyreadstat`."
   ]
  },
  {
   "cell_type": "code",
   "execution_count": 93,
   "metadata": {
    "slideshow": {
     "slide_type": "fragment"
    }
   },
   "outputs": [],
   "source": [
    "#!pip install pyreadstat"
   ]
  },
  {
   "cell_type": "markdown",
   "metadata": {
    "slideshow": {
     "slide_type": "subslide"
    }
   },
   "source": [
    "Veamos un ejemplo:\n",
    "\n",
    "> Requiere cargar el archivo [\"euthan.sav\"](https://github.com/renatoparedes/EstadisticaYPsicologiaMatematica/raw/main/AFE/euthan.sav) en el repositorio local. "
   ]
  },
  {
   "cell_type": "code",
   "execution_count": 65,
   "metadata": {
    "slideshow": {
     "slide_type": "fragment"
    }
   },
   "outputs": [
    {
     "data": {
      "text/html": [
       "<div>\n",
       "<style scoped>\n",
       "    .dataframe tbody tr th:only-of-type {\n",
       "        vertical-align: middle;\n",
       "    }\n",
       "\n",
       "    .dataframe tbody tr th {\n",
       "        vertical-align: top;\n",
       "    }\n",
       "\n",
       "    .dataframe thead th {\n",
       "        text-align: right;\n",
       "    }\n",
       "</style>\n",
       "<table border=\"1\" class=\"dataframe\">\n",
       "  <thead>\n",
       "    <tr style=\"text-align: right;\">\n",
       "      <th></th>\n",
       "      <th>e1</th>\n",
       "      <th>e2</th>\n",
       "      <th>e3</th>\n",
       "      <th>e4</th>\n",
       "      <th>e5</th>\n",
       "      <th>e6</th>\n",
       "      <th>e7</th>\n",
       "      <th>e8</th>\n",
       "      <th>e9</th>\n",
       "      <th>e10</th>\n",
       "      <th>e11</th>\n",
       "      <th>e12</th>\n",
       "    </tr>\n",
       "  </thead>\n",
       "  <tbody>\n",
       "    <tr>\n",
       "      <th>0</th>\n",
       "      <td>5.0</td>\n",
       "      <td>5.0</td>\n",
       "      <td>3.0</td>\n",
       "      <td>4.0</td>\n",
       "      <td>5.0</td>\n",
       "      <td>5.0</td>\n",
       "      <td>4.0</td>\n",
       "      <td>4.0</td>\n",
       "      <td>5.0</td>\n",
       "      <td>5.0</td>\n",
       "      <td>3.0</td>\n",
       "      <td>3.0</td>\n",
       "    </tr>\n",
       "    <tr>\n",
       "      <th>1</th>\n",
       "      <td>3.0</td>\n",
       "      <td>4.0</td>\n",
       "      <td>2.0</td>\n",
       "      <td>3.0</td>\n",
       "      <td>4.0</td>\n",
       "      <td>4.0</td>\n",
       "      <td>3.0</td>\n",
       "      <td>3.0</td>\n",
       "      <td>4.0</td>\n",
       "      <td>2.0</td>\n",
       "      <td>2.0</td>\n",
       "      <td>3.0</td>\n",
       "    </tr>\n",
       "    <tr>\n",
       "      <th>2</th>\n",
       "      <td>5.0</td>\n",
       "      <td>5.0</td>\n",
       "      <td>1.0</td>\n",
       "      <td>4.0</td>\n",
       "      <td>5.0</td>\n",
       "      <td>5.0</td>\n",
       "      <td>4.0</td>\n",
       "      <td>4.0</td>\n",
       "      <td>5.0</td>\n",
       "      <td>5.0</td>\n",
       "      <td>5.0</td>\n",
       "      <td>4.0</td>\n",
       "    </tr>\n",
       "    <tr>\n",
       "      <th>3</th>\n",
       "      <td>4.0</td>\n",
       "      <td>5.0</td>\n",
       "      <td>1.0</td>\n",
       "      <td>4.0</td>\n",
       "      <td>5.0</td>\n",
       "      <td>5.0</td>\n",
       "      <td>5.0</td>\n",
       "      <td>5.0</td>\n",
       "      <td>3.0</td>\n",
       "      <td>5.0</td>\n",
       "      <td>3.0</td>\n",
       "      <td>3.0</td>\n",
       "    </tr>\n",
       "    <tr>\n",
       "      <th>4</th>\n",
       "      <td>3.0</td>\n",
       "      <td>4.0</td>\n",
       "      <td>4.0</td>\n",
       "      <td>3.0</td>\n",
       "      <td>3.0</td>\n",
       "      <td>4.0</td>\n",
       "      <td>4.0</td>\n",
       "      <td>4.0</td>\n",
       "      <td>3.0</td>\n",
       "      <td>4.0</td>\n",
       "      <td>3.0</td>\n",
       "      <td>4.0</td>\n",
       "    </tr>\n",
       "  </tbody>\n",
       "</table>\n",
       "</div>"
      ],
      "text/plain": [
       "    e1   e2   e3   e4   e5   e6   e7   e8   e9  e10  e11  e12\n",
       "0  5.0  5.0  3.0  4.0  5.0  5.0  4.0  4.0  5.0  5.0  3.0  3.0\n",
       "1  3.0  4.0  2.0  3.0  4.0  4.0  3.0  3.0  4.0  2.0  2.0  3.0\n",
       "2  5.0  5.0  1.0  4.0  5.0  5.0  4.0  4.0  5.0  5.0  5.0  4.0\n",
       "3  4.0  5.0  1.0  4.0  5.0  5.0  5.0  5.0  3.0  5.0  3.0  3.0\n",
       "4  3.0  4.0  4.0  3.0  3.0  4.0  4.0  4.0  3.0  4.0  3.0  4.0"
      ]
     },
     "execution_count": 65,
     "metadata": {},
     "output_type": "execute_result"
    }
   ],
   "source": [
    "euthan = pd.read_spss(\"euthan.sav\")\n",
    "euthan.head()"
   ]
  },
  {
   "cell_type": "markdown",
   "metadata": {
    "slideshow": {
     "slide_type": "fragment"
    }
   },
   "source": [
    "Pandas cuenta con varios otros métodos para leer tipos especiales de archivos, los cuales pueden encontrarse en la [documentación](https://pandas.pydata.org/pandas-docs/stable/reference/io.html). \n",
    "\n",
    "Lo sugerido es utilizar read_csv siempre que sea posible. Es decir, siempre que podamos acceder al archivo original con el software de origen y exportarlo en formato .csv."
   ]
  },
  {
   "cell_type": "markdown",
   "metadata": {
    "slideshow": {
     "slide_type": "slide"
    }
   },
   "source": [
    "### Reorganización de datos\n",
    "\n",
    "Muchas veces contamos con datos que necesitamos reordenar para hacer los análisis estadísticos que deseamos. \n",
    "\n",
    "Las operaciones más comunes suelen ser transponer filas y columnas y generar agrupamientos.\n"
   ]
  },
  {
   "cell_type": "markdown",
   "metadata": {
    "slideshow": {
     "slide_type": "slide"
    }
   },
   "source": [
    "#### Unpivot\n",
    "\n",
    "Consiste en pasar de formato ancho a formato largo. Dicho de otro modo, pasar de acumular la información en varias columnas a varias filas."
   ]
  },
  {
   "cell_type": "markdown",
   "metadata": {
    "slideshow": {
     "slide_type": "subslide"
    }
   },
   "source": [
    "Veamos un ejemplo:"
   ]
  },
  {
   "cell_type": "code",
   "execution_count": 70,
   "metadata": {
    "slideshow": {
     "slide_type": "fragment"
    }
   },
   "outputs": [
    {
     "data": {
      "text/html": [
       "<div>\n",
       "<style scoped>\n",
       "    .dataframe tbody tr th:only-of-type {\n",
       "        vertical-align: middle;\n",
       "    }\n",
       "\n",
       "    .dataframe tbody tr th {\n",
       "        vertical-align: top;\n",
       "    }\n",
       "\n",
       "    .dataframe thead th {\n",
       "        text-align: right;\n",
       "    }\n",
       "</style>\n",
       "<table border=\"1\" class=\"dataframe\">\n",
       "  <thead>\n",
       "    <tr style=\"text-align: right;\">\n",
       "      <th></th>\n",
       "      <th>Participante</th>\n",
       "      <th>Int_Waving</th>\n",
       "      <th>Int_Pointing</th>\n",
       "      <th>Int_Negacion</th>\n",
       "      <th>Int_Explicar</th>\n",
       "      <th>Int_Tristeza</th>\n",
       "      <th>Int_Nodding</th>\n",
       "    </tr>\n",
       "  </thead>\n",
       "  <tbody>\n",
       "    <tr>\n",
       "      <th>0</th>\n",
       "      <td>1</td>\n",
       "      <td>1</td>\n",
       "      <td>1</td>\n",
       "      <td>1</td>\n",
       "      <td>1</td>\n",
       "      <td>1</td>\n",
       "      <td>1</td>\n",
       "    </tr>\n",
       "    <tr>\n",
       "      <th>1</th>\n",
       "      <td>2</td>\n",
       "      <td>1</td>\n",
       "      <td>0</td>\n",
       "      <td>0</td>\n",
       "      <td>1</td>\n",
       "      <td>1</td>\n",
       "      <td>1</td>\n",
       "    </tr>\n",
       "    <tr>\n",
       "      <th>2</th>\n",
       "      <td>3</td>\n",
       "      <td>1</td>\n",
       "      <td>0</td>\n",
       "      <td>1</td>\n",
       "      <td>1</td>\n",
       "      <td>1</td>\n",
       "      <td>1</td>\n",
       "    </tr>\n",
       "    <tr>\n",
       "      <th>3</th>\n",
       "      <td>4</td>\n",
       "      <td>1</td>\n",
       "      <td>1</td>\n",
       "      <td>1</td>\n",
       "      <td>1</td>\n",
       "      <td>1</td>\n",
       "      <td>1</td>\n",
       "    </tr>\n",
       "    <tr>\n",
       "      <th>4</th>\n",
       "      <td>5</td>\n",
       "      <td>1</td>\n",
       "      <td>1</td>\n",
       "      <td>1</td>\n",
       "      <td>1</td>\n",
       "      <td>1</td>\n",
       "      <td>1</td>\n",
       "    </tr>\n",
       "  </tbody>\n",
       "</table>\n",
       "</div>"
      ],
      "text/plain": [
       "   Participante  Int_Waving  Int_Pointing  Int_Negacion  Int_Explicar  \\\n",
       "0             1           1             1             1             1   \n",
       "1             2           1             0             0             1   \n",
       "2             3           1             0             1             1   \n",
       "3             4           1             1             1             1   \n",
       "4             5           1             1             1             1   \n",
       "\n",
       "   Int_Tristeza  Int_Nodding  \n",
       "0             1            1  \n",
       "1             1            1  \n",
       "2             1            1  \n",
       "3             1            1  \n",
       "4             1            1  "
      ]
     },
     "execution_count": 70,
     "metadata": {},
     "output_type": "execute_result"
    }
   ],
   "source": [
    "intent = robot_data[\n",
    "    [\n",
    "        \"Participante\",\n",
    "        \"Int_Waving\",\n",
    "        \"Int_Pointing\",\n",
    "        \"Int_Negacion\",\n",
    "        \"Int_Explicar\",\n",
    "        \"Int_Tristeza\",\n",
    "        \"Int_Nodding\",\n",
    "    ]\n",
    "]\n",
    "intent.head()"
   ]
  },
  {
   "cell_type": "markdown",
   "metadata": {
    "slideshow": {
     "slide_type": "fragment"
    }
   },
   "source": [
    "En esta tabla contamos con participantes que fueron evaluados en 5 condiciones experimentales, en las que se registraron respuestas de 0 y 1 (errores y aciertos). "
   ]
  },
  {
   "cell_type": "markdown",
   "metadata": {
    "slideshow": {
     "slide_type": "subslide"
    }
   },
   "source": [
    "Podemos pasar de este formato ancho a un formato a largo empleando el método `melt`:"
   ]
  },
  {
   "cell_type": "code",
   "execution_count": 76,
   "metadata": {
    "slideshow": {
     "slide_type": "fragment"
    }
   },
   "outputs": [
    {
     "data": {
      "text/html": [
       "<div>\n",
       "<style scoped>\n",
       "    .dataframe tbody tr th:only-of-type {\n",
       "        vertical-align: middle;\n",
       "    }\n",
       "\n",
       "    .dataframe tbody tr th {\n",
       "        vertical-align: top;\n",
       "    }\n",
       "\n",
       "    .dataframe thead th {\n",
       "        text-align: right;\n",
       "    }\n",
       "</style>\n",
       "<table border=\"1\" class=\"dataframe\">\n",
       "  <thead>\n",
       "    <tr style=\"text-align: right;\">\n",
       "      <th></th>\n",
       "      <th>Participante</th>\n",
       "      <th>Gesture</th>\n",
       "      <th>Guess</th>\n",
       "    </tr>\n",
       "  </thead>\n",
       "  <tbody>\n",
       "    <tr>\n",
       "      <th>0</th>\n",
       "      <td>1</td>\n",
       "      <td>Int_Waving</td>\n",
       "      <td>1</td>\n",
       "    </tr>\n",
       "    <tr>\n",
       "      <th>1</th>\n",
       "      <td>2</td>\n",
       "      <td>Int_Waving</td>\n",
       "      <td>1</td>\n",
       "    </tr>\n",
       "    <tr>\n",
       "      <th>2</th>\n",
       "      <td>3</td>\n",
       "      <td>Int_Waving</td>\n",
       "      <td>1</td>\n",
       "    </tr>\n",
       "    <tr>\n",
       "      <th>3</th>\n",
       "      <td>4</td>\n",
       "      <td>Int_Waving</td>\n",
       "      <td>1</td>\n",
       "    </tr>\n",
       "    <tr>\n",
       "      <th>4</th>\n",
       "      <td>5</td>\n",
       "      <td>Int_Waving</td>\n",
       "      <td>1</td>\n",
       "    </tr>\n",
       "    <tr>\n",
       "      <th>...</th>\n",
       "      <td>...</td>\n",
       "      <td>...</td>\n",
       "      <td>...</td>\n",
       "    </tr>\n",
       "    <tr>\n",
       "      <th>199</th>\n",
       "      <td>30</td>\n",
       "      <td>Int_Nodding</td>\n",
       "      <td>0</td>\n",
       "    </tr>\n",
       "    <tr>\n",
       "      <th>200</th>\n",
       "      <td>31</td>\n",
       "      <td>Int_Nodding</td>\n",
       "      <td>1</td>\n",
       "    </tr>\n",
       "    <tr>\n",
       "      <th>201</th>\n",
       "      <td>32</td>\n",
       "      <td>Int_Nodding</td>\n",
       "      <td>1</td>\n",
       "    </tr>\n",
       "    <tr>\n",
       "      <th>202</th>\n",
       "      <td>33</td>\n",
       "      <td>Int_Nodding</td>\n",
       "      <td>1</td>\n",
       "    </tr>\n",
       "    <tr>\n",
       "      <th>203</th>\n",
       "      <td>34</td>\n",
       "      <td>Int_Nodding</td>\n",
       "      <td>1</td>\n",
       "    </tr>\n",
       "  </tbody>\n",
       "</table>\n",
       "<p>204 rows × 3 columns</p>\n",
       "</div>"
      ],
      "text/plain": [
       "     Participante      Gesture  Guess\n",
       "0               1   Int_Waving      1\n",
       "1               2   Int_Waving      1\n",
       "2               3   Int_Waving      1\n",
       "3               4   Int_Waving      1\n",
       "4               5   Int_Waving      1\n",
       "..            ...          ...    ...\n",
       "199            30  Int_Nodding      0\n",
       "200            31  Int_Nodding      1\n",
       "201            32  Int_Nodding      1\n",
       "202            33  Int_Nodding      1\n",
       "203            34  Int_Nodding      1\n",
       "\n",
       "[204 rows x 3 columns]"
      ]
     },
     "execution_count": 76,
     "metadata": {},
     "output_type": "execute_result"
    }
   ],
   "source": [
    "melt_intent = pd.melt(\n",
    "    intent, value_name=\"Guess\", var_name=\"Gesture\", id_vars=\"Participante\"\n",
    ")\n",
    "melt_intent"
   ]
  },
  {
   "cell_type": "markdown",
   "metadata": {
    "slideshow": {
     "slide_type": "fragment"
    }
   },
   "source": [
    "Este método nos permite tomar los valores de las columnas y representarlos en una sola denominada `Guess`. Para ello, empareja cada valor de esta nueva columna con los de la variable `Gesture`, la cual registra los nombres de las condiciones experimentales. \n",
    "\n",
    "Para identificar a cada participante, el método considera el argumento `id_vars`.  "
   ]
  },
  {
   "cell_type": "markdown",
   "metadata": {
    "slideshow": {
     "slide_type": "slide"
    }
   },
   "source": [
    "### Pivot\n",
    "\n",
    "Podemos hacer el proceso inverso: transformar los datos de formato largo a formato ancho. Es decir, pasar de acumular los datos en varias filas a varias columnas. "
   ]
  },
  {
   "cell_type": "markdown",
   "metadata": {
    "slideshow": {
     "slide_type": "subslide"
    }
   },
   "source": [
    "Para pasar a formato ancho, podemos emplear el método `pivot`:"
   ]
  },
  {
   "cell_type": "code",
   "execution_count": 79,
   "metadata": {
    "slideshow": {
     "slide_type": "fragment"
    }
   },
   "outputs": [
    {
     "data": {
      "text/html": [
       "<div>\n",
       "<style scoped>\n",
       "    .dataframe tbody tr th:only-of-type {\n",
       "        vertical-align: middle;\n",
       "    }\n",
       "\n",
       "    .dataframe tbody tr th {\n",
       "        vertical-align: top;\n",
       "    }\n",
       "\n",
       "    .dataframe thead th {\n",
       "        text-align: right;\n",
       "    }\n",
       "</style>\n",
       "<table border=\"1\" class=\"dataframe\">\n",
       "  <thead>\n",
       "    <tr style=\"text-align: right;\">\n",
       "      <th>Gesture</th>\n",
       "      <th>Int_Explicar</th>\n",
       "      <th>Int_Negacion</th>\n",
       "      <th>Int_Nodding</th>\n",
       "      <th>Int_Pointing</th>\n",
       "      <th>Int_Tristeza</th>\n",
       "      <th>Int_Waving</th>\n",
       "    </tr>\n",
       "    <tr>\n",
       "      <th>Participante</th>\n",
       "      <th></th>\n",
       "      <th></th>\n",
       "      <th></th>\n",
       "      <th></th>\n",
       "      <th></th>\n",
       "      <th></th>\n",
       "    </tr>\n",
       "  </thead>\n",
       "  <tbody>\n",
       "    <tr>\n",
       "      <th>1</th>\n",
       "      <td>1</td>\n",
       "      <td>1</td>\n",
       "      <td>1</td>\n",
       "      <td>1</td>\n",
       "      <td>1</td>\n",
       "      <td>1</td>\n",
       "    </tr>\n",
       "    <tr>\n",
       "      <th>2</th>\n",
       "      <td>1</td>\n",
       "      <td>0</td>\n",
       "      <td>1</td>\n",
       "      <td>0</td>\n",
       "      <td>1</td>\n",
       "      <td>1</td>\n",
       "    </tr>\n",
       "    <tr>\n",
       "      <th>3</th>\n",
       "      <td>1</td>\n",
       "      <td>1</td>\n",
       "      <td>1</td>\n",
       "      <td>0</td>\n",
       "      <td>1</td>\n",
       "      <td>1</td>\n",
       "    </tr>\n",
       "    <tr>\n",
       "      <th>4</th>\n",
       "      <td>1</td>\n",
       "      <td>1</td>\n",
       "      <td>1</td>\n",
       "      <td>1</td>\n",
       "      <td>1</td>\n",
       "      <td>1</td>\n",
       "    </tr>\n",
       "    <tr>\n",
       "      <th>5</th>\n",
       "      <td>1</td>\n",
       "      <td>1</td>\n",
       "      <td>1</td>\n",
       "      <td>1</td>\n",
       "      <td>1</td>\n",
       "      <td>1</td>\n",
       "    </tr>\n",
       "    <tr>\n",
       "      <th>6</th>\n",
       "      <td>1</td>\n",
       "      <td>1</td>\n",
       "      <td>1</td>\n",
       "      <td>1</td>\n",
       "      <td>1</td>\n",
       "      <td>1</td>\n",
       "    </tr>\n",
       "    <tr>\n",
       "      <th>7</th>\n",
       "      <td>1</td>\n",
       "      <td>1</td>\n",
       "      <td>1</td>\n",
       "      <td>1</td>\n",
       "      <td>1</td>\n",
       "      <td>1</td>\n",
       "    </tr>\n",
       "    <tr>\n",
       "      <th>8</th>\n",
       "      <td>1</td>\n",
       "      <td>1</td>\n",
       "      <td>1</td>\n",
       "      <td>1</td>\n",
       "      <td>1</td>\n",
       "      <td>1</td>\n",
       "    </tr>\n",
       "    <tr>\n",
       "      <th>9</th>\n",
       "      <td>1</td>\n",
       "      <td>1</td>\n",
       "      <td>1</td>\n",
       "      <td>1</td>\n",
       "      <td>1</td>\n",
       "      <td>1</td>\n",
       "    </tr>\n",
       "    <tr>\n",
       "      <th>10</th>\n",
       "      <td>0</td>\n",
       "      <td>1</td>\n",
       "      <td>1</td>\n",
       "      <td>0</td>\n",
       "      <td>1</td>\n",
       "      <td>1</td>\n",
       "    </tr>\n",
       "    <tr>\n",
       "      <th>11</th>\n",
       "      <td>1</td>\n",
       "      <td>1</td>\n",
       "      <td>1</td>\n",
       "      <td>1</td>\n",
       "      <td>1</td>\n",
       "      <td>1</td>\n",
       "    </tr>\n",
       "    <tr>\n",
       "      <th>12</th>\n",
       "      <td>1</td>\n",
       "      <td>1</td>\n",
       "      <td>1</td>\n",
       "      <td>0</td>\n",
       "      <td>0</td>\n",
       "      <td>1</td>\n",
       "    </tr>\n",
       "    <tr>\n",
       "      <th>13</th>\n",
       "      <td>1</td>\n",
       "      <td>1</td>\n",
       "      <td>1</td>\n",
       "      <td>1</td>\n",
       "      <td>0</td>\n",
       "      <td>1</td>\n",
       "    </tr>\n",
       "    <tr>\n",
       "      <th>14</th>\n",
       "      <td>1</td>\n",
       "      <td>1</td>\n",
       "      <td>1</td>\n",
       "      <td>0</td>\n",
       "      <td>1</td>\n",
       "      <td>1</td>\n",
       "    </tr>\n",
       "    <tr>\n",
       "      <th>15</th>\n",
       "      <td>1</td>\n",
       "      <td>1</td>\n",
       "      <td>1</td>\n",
       "      <td>1</td>\n",
       "      <td>0</td>\n",
       "      <td>1</td>\n",
       "    </tr>\n",
       "    <tr>\n",
       "      <th>16</th>\n",
       "      <td>1</td>\n",
       "      <td>1</td>\n",
       "      <td>1</td>\n",
       "      <td>1</td>\n",
       "      <td>1</td>\n",
       "      <td>1</td>\n",
       "    </tr>\n",
       "    <tr>\n",
       "      <th>17</th>\n",
       "      <td>1</td>\n",
       "      <td>1</td>\n",
       "      <td>1</td>\n",
       "      <td>0</td>\n",
       "      <td>1</td>\n",
       "      <td>1</td>\n",
       "    </tr>\n",
       "    <tr>\n",
       "      <th>18</th>\n",
       "      <td>1</td>\n",
       "      <td>1</td>\n",
       "      <td>1</td>\n",
       "      <td>1</td>\n",
       "      <td>0</td>\n",
       "      <td>1</td>\n",
       "    </tr>\n",
       "    <tr>\n",
       "      <th>19</th>\n",
       "      <td>1</td>\n",
       "      <td>1</td>\n",
       "      <td>1</td>\n",
       "      <td>1</td>\n",
       "      <td>1</td>\n",
       "      <td>1</td>\n",
       "    </tr>\n",
       "    <tr>\n",
       "      <th>20</th>\n",
       "      <td>1</td>\n",
       "      <td>1</td>\n",
       "      <td>1</td>\n",
       "      <td>0</td>\n",
       "      <td>1</td>\n",
       "      <td>1</td>\n",
       "    </tr>\n",
       "    <tr>\n",
       "      <th>21</th>\n",
       "      <td>1</td>\n",
       "      <td>1</td>\n",
       "      <td>1</td>\n",
       "      <td>1</td>\n",
       "      <td>0</td>\n",
       "      <td>1</td>\n",
       "    </tr>\n",
       "    <tr>\n",
       "      <th>22</th>\n",
       "      <td>1</td>\n",
       "      <td>1</td>\n",
       "      <td>1</td>\n",
       "      <td>1</td>\n",
       "      <td>0</td>\n",
       "      <td>1</td>\n",
       "    </tr>\n",
       "    <tr>\n",
       "      <th>23</th>\n",
       "      <td>1</td>\n",
       "      <td>0</td>\n",
       "      <td>1</td>\n",
       "      <td>1</td>\n",
       "      <td>0</td>\n",
       "      <td>1</td>\n",
       "    </tr>\n",
       "    <tr>\n",
       "      <th>24</th>\n",
       "      <td>1</td>\n",
       "      <td>0</td>\n",
       "      <td>1</td>\n",
       "      <td>0</td>\n",
       "      <td>1</td>\n",
       "      <td>1</td>\n",
       "    </tr>\n",
       "    <tr>\n",
       "      <th>25</th>\n",
       "      <td>1</td>\n",
       "      <td>1</td>\n",
       "      <td>1</td>\n",
       "      <td>1</td>\n",
       "      <td>1</td>\n",
       "      <td>1</td>\n",
       "    </tr>\n",
       "    <tr>\n",
       "      <th>26</th>\n",
       "      <td>1</td>\n",
       "      <td>1</td>\n",
       "      <td>1</td>\n",
       "      <td>1</td>\n",
       "      <td>0</td>\n",
       "      <td>1</td>\n",
       "    </tr>\n",
       "    <tr>\n",
       "      <th>27</th>\n",
       "      <td>1</td>\n",
       "      <td>1</td>\n",
       "      <td>1</td>\n",
       "      <td>1</td>\n",
       "      <td>0</td>\n",
       "      <td>1</td>\n",
       "    </tr>\n",
       "    <tr>\n",
       "      <th>28</th>\n",
       "      <td>1</td>\n",
       "      <td>1</td>\n",
       "      <td>1</td>\n",
       "      <td>1</td>\n",
       "      <td>0</td>\n",
       "      <td>1</td>\n",
       "    </tr>\n",
       "    <tr>\n",
       "      <th>29</th>\n",
       "      <td>0</td>\n",
       "      <td>1</td>\n",
       "      <td>1</td>\n",
       "      <td>1</td>\n",
       "      <td>0</td>\n",
       "      <td>1</td>\n",
       "    </tr>\n",
       "    <tr>\n",
       "      <th>30</th>\n",
       "      <td>0</td>\n",
       "      <td>0</td>\n",
       "      <td>0</td>\n",
       "      <td>0</td>\n",
       "      <td>1</td>\n",
       "      <td>1</td>\n",
       "    </tr>\n",
       "    <tr>\n",
       "      <th>31</th>\n",
       "      <td>1</td>\n",
       "      <td>1</td>\n",
       "      <td>1</td>\n",
       "      <td>1</td>\n",
       "      <td>0</td>\n",
       "      <td>1</td>\n",
       "    </tr>\n",
       "    <tr>\n",
       "      <th>32</th>\n",
       "      <td>1</td>\n",
       "      <td>1</td>\n",
       "      <td>1</td>\n",
       "      <td>0</td>\n",
       "      <td>0</td>\n",
       "      <td>1</td>\n",
       "    </tr>\n",
       "    <tr>\n",
       "      <th>33</th>\n",
       "      <td>0</td>\n",
       "      <td>1</td>\n",
       "      <td>1</td>\n",
       "      <td>0</td>\n",
       "      <td>0</td>\n",
       "      <td>1</td>\n",
       "    </tr>\n",
       "    <tr>\n",
       "      <th>34</th>\n",
       "      <td>1</td>\n",
       "      <td>1</td>\n",
       "      <td>1</td>\n",
       "      <td>1</td>\n",
       "      <td>0</td>\n",
       "      <td>1</td>\n",
       "    </tr>\n",
       "  </tbody>\n",
       "</table>\n",
       "</div>"
      ],
      "text/plain": [
       "Gesture       Int_Explicar  Int_Negacion  Int_Nodding  Int_Pointing  \\\n",
       "Participante                                                          \n",
       "1                        1             1            1             1   \n",
       "2                        1             0            1             0   \n",
       "3                        1             1            1             0   \n",
       "4                        1             1            1             1   \n",
       "5                        1             1            1             1   \n",
       "6                        1             1            1             1   \n",
       "7                        1             1            1             1   \n",
       "8                        1             1            1             1   \n",
       "9                        1             1            1             1   \n",
       "10                       0             1            1             0   \n",
       "11                       1             1            1             1   \n",
       "12                       1             1            1             0   \n",
       "13                       1             1            1             1   \n",
       "14                       1             1            1             0   \n",
       "15                       1             1            1             1   \n",
       "16                       1             1            1             1   \n",
       "17                       1             1            1             0   \n",
       "18                       1             1            1             1   \n",
       "19                       1             1            1             1   \n",
       "20                       1             1            1             0   \n",
       "21                       1             1            1             1   \n",
       "22                       1             1            1             1   \n",
       "23                       1             0            1             1   \n",
       "24                       1             0            1             0   \n",
       "25                       1             1            1             1   \n",
       "26                       1             1            1             1   \n",
       "27                       1             1            1             1   \n",
       "28                       1             1            1             1   \n",
       "29                       0             1            1             1   \n",
       "30                       0             0            0             0   \n",
       "31                       1             1            1             1   \n",
       "32                       1             1            1             0   \n",
       "33                       0             1            1             0   \n",
       "34                       1             1            1             1   \n",
       "\n",
       "Gesture       Int_Tristeza  Int_Waving  \n",
       "Participante                            \n",
       "1                        1           1  \n",
       "2                        1           1  \n",
       "3                        1           1  \n",
       "4                        1           1  \n",
       "5                        1           1  \n",
       "6                        1           1  \n",
       "7                        1           1  \n",
       "8                        1           1  \n",
       "9                        1           1  \n",
       "10                       1           1  \n",
       "11                       1           1  \n",
       "12                       0           1  \n",
       "13                       0           1  \n",
       "14                       1           1  \n",
       "15                       0           1  \n",
       "16                       1           1  \n",
       "17                       1           1  \n",
       "18                       0           1  \n",
       "19                       1           1  \n",
       "20                       1           1  \n",
       "21                       0           1  \n",
       "22                       0           1  \n",
       "23                       0           1  \n",
       "24                       1           1  \n",
       "25                       1           1  \n",
       "26                       0           1  \n",
       "27                       0           1  \n",
       "28                       0           1  \n",
       "29                       0           1  \n",
       "30                       1           1  \n",
       "31                       0           1  \n",
       "32                       0           1  \n",
       "33                       0           1  \n",
       "34                       0           1  "
      ]
     },
     "execution_count": 79,
     "metadata": {},
     "output_type": "execute_result"
    }
   ],
   "source": [
    "new_intent = pd.pivot(\n",
    "    melt_intent, columns=\"Gesture\", values=\"Guess\", index=\"Participante\"\n",
    ")\n",
    "new_intent"
   ]
  },
  {
   "cell_type": "markdown",
   "metadata": {
    "slideshow": {
     "slide_type": "slide"
    }
   },
   "source": [
    "### Group by"
   ]
  },
  {
   "cell_type": "markdown",
   "metadata": {
    "slideshow": {
     "slide_type": "fragment"
    }
   },
   "source": [
    "Una operación groupby implica una combinación de división del objeto, aplicación de una función y combinación de los resultados. Esto puede utilizarse para agrupar grandes cantidades de datos y calcular operaciones sobre estos grupos."
   ]
  },
  {
   "cell_type": "markdown",
   "metadata": {
    "slideshow": {
     "slide_type": "subslide"
    }
   },
   "source": [
    "Para ilustrar, retomemos nuestro ejemplo de Star Wars:"
   ]
  },
  {
   "cell_type": "code",
   "execution_count": 98,
   "metadata": {
    "slideshow": {
     "slide_type": "fragment"
    }
   },
   "outputs": [
    {
     "data": {
      "text/html": [
       "<div>\n",
       "<style scoped>\n",
       "    .dataframe tbody tr th:only-of-type {\n",
       "        vertical-align: middle;\n",
       "    }\n",
       "\n",
       "    .dataframe tbody tr th {\n",
       "        vertical-align: top;\n",
       "    }\n",
       "\n",
       "    .dataframe thead th {\n",
       "        text-align: right;\n",
       "    }\n",
       "</style>\n",
       "<table border=\"1\" class=\"dataframe\">\n",
       "  <thead>\n",
       "    <tr style=\"text-align: right;\">\n",
       "      <th></th>\n",
       "      <th>name</th>\n",
       "      <th>gender</th>\n",
       "      <th>height</th>\n",
       "      <th>weight</th>\n",
       "      <th>eyecolor</th>\n",
       "      <th>haircolor</th>\n",
       "      <th>skincolor</th>\n",
       "      <th>homeland</th>\n",
       "      <th>born</th>\n",
       "      <th>died</th>\n",
       "      <th>jedi</th>\n",
       "      <th>species</th>\n",
       "      <th>weapon</th>\n",
       "    </tr>\n",
       "  </thead>\n",
       "  <tbody>\n",
       "    <tr>\n",
       "      <th>0</th>\n",
       "      <td>Anakin Skywalker</td>\n",
       "      <td>male</td>\n",
       "      <td>1.88</td>\n",
       "      <td>84.0</td>\n",
       "      <td>blue</td>\n",
       "      <td>blond</td>\n",
       "      <td>fair</td>\n",
       "      <td>Tatooine</td>\n",
       "      <td>41.9BBY</td>\n",
       "      <td>4ABY</td>\n",
       "      <td>yes_jedi</td>\n",
       "      <td>human</td>\n",
       "      <td>lightsaber</td>\n",
       "    </tr>\n",
       "    <tr>\n",
       "      <th>1</th>\n",
       "      <td>Padme Amidala</td>\n",
       "      <td>female</td>\n",
       "      <td>1.65</td>\n",
       "      <td>45.0</td>\n",
       "      <td>brown</td>\n",
       "      <td>brown</td>\n",
       "      <td>light</td>\n",
       "      <td>Naboo</td>\n",
       "      <td>46BBY</td>\n",
       "      <td>19BBY</td>\n",
       "      <td>no_jedi</td>\n",
       "      <td>human</td>\n",
       "      <td>unarmed</td>\n",
       "    </tr>\n",
       "    <tr>\n",
       "      <th>2</th>\n",
       "      <td>Luke Skywalker</td>\n",
       "      <td>male</td>\n",
       "      <td>1.72</td>\n",
       "      <td>77.0</td>\n",
       "      <td>blue</td>\n",
       "      <td>blond</td>\n",
       "      <td>fair</td>\n",
       "      <td>Tatooine</td>\n",
       "      <td>19BBY</td>\n",
       "      <td>unk_died</td>\n",
       "      <td>yes_jedi</td>\n",
       "      <td>human</td>\n",
       "      <td>lightsaber</td>\n",
       "    </tr>\n",
       "    <tr>\n",
       "      <th>3</th>\n",
       "      <td>Leia Organa</td>\n",
       "      <td>female</td>\n",
       "      <td>1.50</td>\n",
       "      <td>49.0</td>\n",
       "      <td>brown</td>\n",
       "      <td>brown</td>\n",
       "      <td>light</td>\n",
       "      <td>Alderaan</td>\n",
       "      <td>19BBY</td>\n",
       "      <td>unk_died</td>\n",
       "      <td>no_jedi</td>\n",
       "      <td>human</td>\n",
       "      <td>blaster</td>\n",
       "    </tr>\n",
       "    <tr>\n",
       "      <th>4</th>\n",
       "      <td>Qui-Gon Jinn</td>\n",
       "      <td>male</td>\n",
       "      <td>1.93</td>\n",
       "      <td>88.5</td>\n",
       "      <td>blue</td>\n",
       "      <td>brown</td>\n",
       "      <td>light</td>\n",
       "      <td>unk_planet</td>\n",
       "      <td>92BBY</td>\n",
       "      <td>32BBY</td>\n",
       "      <td>yes_jedi</td>\n",
       "      <td>human</td>\n",
       "      <td>lightsaber</td>\n",
       "    </tr>\n",
       "    <tr>\n",
       "      <th>5</th>\n",
       "      <td>Obi-Wan Kenobi</td>\n",
       "      <td>male</td>\n",
       "      <td>1.82</td>\n",
       "      <td>77.0</td>\n",
       "      <td>bluegray</td>\n",
       "      <td>auburn</td>\n",
       "      <td>fair</td>\n",
       "      <td>Stewjon</td>\n",
       "      <td>57BBY</td>\n",
       "      <td>0BBY</td>\n",
       "      <td>yes_jedi</td>\n",
       "      <td>human</td>\n",
       "      <td>lightsaber</td>\n",
       "    </tr>\n",
       "    <tr>\n",
       "      <th>6</th>\n",
       "      <td>Han Solo</td>\n",
       "      <td>male</td>\n",
       "      <td>1.80</td>\n",
       "      <td>80.0</td>\n",
       "      <td>brown</td>\n",
       "      <td>brown</td>\n",
       "      <td>light</td>\n",
       "      <td>Corellia</td>\n",
       "      <td>29BBY</td>\n",
       "      <td>unk_died</td>\n",
       "      <td>no_jedi</td>\n",
       "      <td>human</td>\n",
       "      <td>blaster</td>\n",
       "    </tr>\n",
       "    <tr>\n",
       "      <th>7</th>\n",
       "      <td>Sheev Palpatine</td>\n",
       "      <td>male</td>\n",
       "      <td>1.73</td>\n",
       "      <td>75.0</td>\n",
       "      <td>blue</td>\n",
       "      <td>red</td>\n",
       "      <td>pale</td>\n",
       "      <td>Naboo</td>\n",
       "      <td>82BBY</td>\n",
       "      <td>10ABY</td>\n",
       "      <td>no_jedi</td>\n",
       "      <td>human</td>\n",
       "      <td>force-lightning</td>\n",
       "    </tr>\n",
       "    <tr>\n",
       "      <th>8</th>\n",
       "      <td>R2-D2</td>\n",
       "      <td>male</td>\n",
       "      <td>0.96</td>\n",
       "      <td>32.0</td>\n",
       "      <td>NaN</td>\n",
       "      <td>NaN</td>\n",
       "      <td>NaN</td>\n",
       "      <td>Naboo</td>\n",
       "      <td>33BBY</td>\n",
       "      <td>unk_died</td>\n",
       "      <td>no_jedi</td>\n",
       "      <td>droid</td>\n",
       "      <td>unarmed</td>\n",
       "    </tr>\n",
       "    <tr>\n",
       "      <th>9</th>\n",
       "      <td>C-3PO</td>\n",
       "      <td>male</td>\n",
       "      <td>1.67</td>\n",
       "      <td>75.0</td>\n",
       "      <td>NaN</td>\n",
       "      <td>NaN</td>\n",
       "      <td>NaN</td>\n",
       "      <td>Tatooine</td>\n",
       "      <td>112BBY</td>\n",
       "      <td>3ABY</td>\n",
       "      <td>no_jedi</td>\n",
       "      <td>droid</td>\n",
       "      <td>unarmed</td>\n",
       "    </tr>\n",
       "    <tr>\n",
       "      <th>10</th>\n",
       "      <td>Yoda</td>\n",
       "      <td>male</td>\n",
       "      <td>0.66</td>\n",
       "      <td>17.0</td>\n",
       "      <td>brown</td>\n",
       "      <td>brown</td>\n",
       "      <td>green</td>\n",
       "      <td>unk_planet</td>\n",
       "      <td>896BBY</td>\n",
       "      <td>4ABY</td>\n",
       "      <td>yes_jedi</td>\n",
       "      <td>yoda</td>\n",
       "      <td>lightsaber</td>\n",
       "    </tr>\n",
       "    <tr>\n",
       "      <th>11</th>\n",
       "      <td>Darth Maul</td>\n",
       "      <td>male</td>\n",
       "      <td>1.75</td>\n",
       "      <td>80.0</td>\n",
       "      <td>yellow</td>\n",
       "      <td>none</td>\n",
       "      <td>red</td>\n",
       "      <td>Dathomir</td>\n",
       "      <td>54BBY</td>\n",
       "      <td>unk_died</td>\n",
       "      <td>no_jedi</td>\n",
       "      <td>dathomirian</td>\n",
       "      <td>lightsaber</td>\n",
       "    </tr>\n",
       "    <tr>\n",
       "      <th>12</th>\n",
       "      <td>Dooku</td>\n",
       "      <td>male</td>\n",
       "      <td>1.93</td>\n",
       "      <td>86.0</td>\n",
       "      <td>brown</td>\n",
       "      <td>brown</td>\n",
       "      <td>light</td>\n",
       "      <td>Serenno</td>\n",
       "      <td>102BBY</td>\n",
       "      <td>19BBY</td>\n",
       "      <td>yes_jedi</td>\n",
       "      <td>human</td>\n",
       "      <td>lightsaber</td>\n",
       "    </tr>\n",
       "    <tr>\n",
       "      <th>13</th>\n",
       "      <td>Chewbacca</td>\n",
       "      <td>male</td>\n",
       "      <td>2.28</td>\n",
       "      <td>112.0</td>\n",
       "      <td>blue</td>\n",
       "      <td>brown</td>\n",
       "      <td>NaN</td>\n",
       "      <td>Kashyyyk</td>\n",
       "      <td>200BBY</td>\n",
       "      <td>25ABY</td>\n",
       "      <td>no_jedi</td>\n",
       "      <td>wookiee</td>\n",
       "      <td>bowcaster</td>\n",
       "    </tr>\n",
       "    <tr>\n",
       "      <th>14</th>\n",
       "      <td>Jabba</td>\n",
       "      <td>male</td>\n",
       "      <td>3.90</td>\n",
       "      <td>NaN</td>\n",
       "      <td>yellow</td>\n",
       "      <td>none</td>\n",
       "      <td>tan-green</td>\n",
       "      <td>Tatooine</td>\n",
       "      <td>unk_born</td>\n",
       "      <td>4ABY</td>\n",
       "      <td>no_jedi</td>\n",
       "      <td>hutt</td>\n",
       "      <td>unarmed</td>\n",
       "    </tr>\n",
       "    <tr>\n",
       "      <th>15</th>\n",
       "      <td>Lando Calrissian</td>\n",
       "      <td>male</td>\n",
       "      <td>1.78</td>\n",
       "      <td>79.0</td>\n",
       "      <td>brown</td>\n",
       "      <td>blank</td>\n",
       "      <td>dark</td>\n",
       "      <td>Socorro</td>\n",
       "      <td>31BBY</td>\n",
       "      <td>unk_died</td>\n",
       "      <td>no_jedi</td>\n",
       "      <td>human</td>\n",
       "      <td>blaster</td>\n",
       "    </tr>\n",
       "    <tr>\n",
       "      <th>16</th>\n",
       "      <td>Boba Fett</td>\n",
       "      <td>male</td>\n",
       "      <td>1.83</td>\n",
       "      <td>78.0</td>\n",
       "      <td>brown</td>\n",
       "      <td>black</td>\n",
       "      <td>brown</td>\n",
       "      <td>Kamino</td>\n",
       "      <td>31.5BBY</td>\n",
       "      <td>unk_died</td>\n",
       "      <td>no_jedi</td>\n",
       "      <td>human</td>\n",
       "      <td>blaster</td>\n",
       "    </tr>\n",
       "    <tr>\n",
       "      <th>17</th>\n",
       "      <td>Jango Fett</td>\n",
       "      <td>male</td>\n",
       "      <td>1.83</td>\n",
       "      <td>79.0</td>\n",
       "      <td>brown</td>\n",
       "      <td>black</td>\n",
       "      <td>brown</td>\n",
       "      <td>ConcordDawn</td>\n",
       "      <td>66BBY</td>\n",
       "      <td>22BBY</td>\n",
       "      <td>no_jedi</td>\n",
       "      <td>human</td>\n",
       "      <td>blaster</td>\n",
       "    </tr>\n",
       "    <tr>\n",
       "      <th>18</th>\n",
       "      <td>Grievous</td>\n",
       "      <td>male</td>\n",
       "      <td>2.16</td>\n",
       "      <td>159.0</td>\n",
       "      <td>gold</td>\n",
       "      <td>black</td>\n",
       "      <td>orange</td>\n",
       "      <td>Kalee</td>\n",
       "      <td>unk_born</td>\n",
       "      <td>19BBY</td>\n",
       "      <td>no_jedi</td>\n",
       "      <td>kaleesh</td>\n",
       "      <td>slugthrower</td>\n",
       "    </tr>\n",
       "    <tr>\n",
       "      <th>19</th>\n",
       "      <td>Chief Chirpa</td>\n",
       "      <td>male</td>\n",
       "      <td>1.00</td>\n",
       "      <td>50.0</td>\n",
       "      <td>black</td>\n",
       "      <td>gray</td>\n",
       "      <td>brown</td>\n",
       "      <td>Endor</td>\n",
       "      <td>unk_born</td>\n",
       "      <td>4ABY</td>\n",
       "      <td>no_jedi</td>\n",
       "      <td>ewok</td>\n",
       "      <td>spear</td>\n",
       "    </tr>\n",
       "  </tbody>\n",
       "</table>\n",
       "</div>"
      ],
      "text/plain": [
       "                name  gender  height  weight  eyecolor haircolor  skincolor  \\\n",
       "0   Anakin Skywalker    male    1.88    84.0      blue     blond       fair   \n",
       "1      Padme Amidala  female    1.65    45.0     brown     brown      light   \n",
       "2     Luke Skywalker    male    1.72    77.0      blue     blond       fair   \n",
       "3        Leia Organa  female    1.50    49.0     brown     brown      light   \n",
       "4       Qui-Gon Jinn    male    1.93    88.5      blue     brown      light   \n",
       "5     Obi-Wan Kenobi    male    1.82    77.0  bluegray    auburn       fair   \n",
       "6           Han Solo    male    1.80    80.0     brown     brown      light   \n",
       "7    Sheev Palpatine    male    1.73    75.0      blue       red       pale   \n",
       "8              R2-D2    male    0.96    32.0       NaN       NaN        NaN   \n",
       "9              C-3PO    male    1.67    75.0       NaN       NaN        NaN   \n",
       "10              Yoda    male    0.66    17.0     brown     brown      green   \n",
       "11        Darth Maul    male    1.75    80.0    yellow      none        red   \n",
       "12             Dooku    male    1.93    86.0     brown     brown      light   \n",
       "13         Chewbacca    male    2.28   112.0      blue     brown        NaN   \n",
       "14             Jabba    male    3.90     NaN    yellow      none  tan-green   \n",
       "15  Lando Calrissian    male    1.78    79.0     brown     blank       dark   \n",
       "16         Boba Fett    male    1.83    78.0     brown     black      brown   \n",
       "17        Jango Fett    male    1.83    79.0     brown     black      brown   \n",
       "18          Grievous    male    2.16   159.0      gold     black     orange   \n",
       "19      Chief Chirpa    male    1.00    50.0     black      gray      brown   \n",
       "\n",
       "       homeland      born      died      jedi      species           weapon  \n",
       "0      Tatooine   41.9BBY      4ABY  yes_jedi        human       lightsaber  \n",
       "1         Naboo     46BBY     19BBY   no_jedi        human          unarmed  \n",
       "2      Tatooine     19BBY  unk_died  yes_jedi        human       lightsaber  \n",
       "3      Alderaan     19BBY  unk_died   no_jedi        human          blaster  \n",
       "4    unk_planet     92BBY     32BBY  yes_jedi        human       lightsaber  \n",
       "5       Stewjon     57BBY      0BBY  yes_jedi        human       lightsaber  \n",
       "6      Corellia     29BBY  unk_died   no_jedi        human          blaster  \n",
       "7         Naboo     82BBY     10ABY   no_jedi        human  force-lightning  \n",
       "8         Naboo     33BBY  unk_died   no_jedi        droid          unarmed  \n",
       "9      Tatooine    112BBY      3ABY   no_jedi        droid          unarmed  \n",
       "10   unk_planet    896BBY      4ABY  yes_jedi         yoda       lightsaber  \n",
       "11     Dathomir     54BBY  unk_died   no_jedi  dathomirian       lightsaber  \n",
       "12      Serenno    102BBY     19BBY  yes_jedi        human       lightsaber  \n",
       "13     Kashyyyk    200BBY     25ABY   no_jedi      wookiee        bowcaster  \n",
       "14     Tatooine  unk_born      4ABY   no_jedi         hutt          unarmed  \n",
       "15      Socorro     31BBY  unk_died   no_jedi        human          blaster  \n",
       "16       Kamino   31.5BBY  unk_died   no_jedi        human          blaster  \n",
       "17  ConcordDawn     66BBY     22BBY   no_jedi        human          blaster  \n",
       "18        Kalee  unk_born     19BBY   no_jedi      kaleesh      slugthrower  \n",
       "19        Endor  unk_born      4ABY   no_jedi         ewok            spear  "
      ]
     },
     "execution_count": 98,
     "metadata": {},
     "output_type": "execute_result"
    }
   ],
   "source": [
    "sw"
   ]
  },
  {
   "cell_type": "markdown",
   "metadata": {
    "slideshow": {
     "slide_type": "subslide"
    }
   },
   "source": [
    "Podemos agrupar a los personajes de acuerdo a sus características como género, especie y arma:"
   ]
  },
  {
   "cell_type": "code",
   "execution_count": 80,
   "metadata": {
    "slideshow": {
     "slide_type": "fragment"
    }
   },
   "outputs": [
    {
     "data": {
      "text/plain": [
       "gender\n",
       "female     2\n",
       "male      18\n",
       "dtype: int64"
      ]
     },
     "execution_count": 80,
     "metadata": {},
     "output_type": "execute_result"
    }
   ],
   "source": [
    "sw.groupby(\"gender\").size()"
   ]
  },
  {
   "cell_type": "code",
   "execution_count": 85,
   "metadata": {
    "slideshow": {
     "slide_type": "fragment"
    }
   },
   "outputs": [
    {
     "data": {
      "text/plain": [
       "species\n",
       "dathomirian     1\n",
       "droid           2\n",
       "ewok            1\n",
       "human          12\n",
       "hutt            1\n",
       "kaleesh         1\n",
       "wookiee         1\n",
       "yoda            1\n",
       "dtype: int64"
      ]
     },
     "execution_count": 85,
     "metadata": {},
     "output_type": "execute_result"
    }
   ],
   "source": [
    "sw.groupby(\"species\").size()"
   ]
  },
  {
   "cell_type": "code",
   "execution_count": 101,
   "metadata": {
    "slideshow": {
     "slide_type": "fragment"
    }
   },
   "outputs": [
    {
     "data": {
      "text/plain": [
       "weapon\n",
       "blaster            5\n",
       "bowcaster          1\n",
       "force-lightning    1\n",
       "lightsaber         7\n",
       "slugthrower        1\n",
       "spear              1\n",
       "unarmed            4\n",
       "dtype: int64"
      ]
     },
     "execution_count": 101,
     "metadata": {},
     "output_type": "execute_result"
    }
   ],
   "source": [
    "sw.groupby(\"weapon\").size()"
   ]
  },
  {
   "cell_type": "markdown",
   "metadata": {
    "slideshow": {
     "slide_type": "subslide"
    }
   },
   "source": [
    "En todos estos ejemplos, hemos optado por devolver el tamaño de cada grupo. Para ello se agregó el método `size()` al finalizar la llamada al método `groupby`.\n",
    "\n",
    "Una vez que tenemos los datos agrupados podemos aplicar otro tipo de operaciones, tales como sumas, promedios, varianzas, entre otras. Los resultados dependerán del tipo de variable con el que se cuente. "
   ]
  },
  {
   "cell_type": "markdown",
   "metadata": {
    "slideshow": {
     "slide_type": "slide"
    }
   },
   "source": [
    "#### Tablas de contingencia\n",
    "\n",
    "Una operación asociada es la creación de tablas de contingencia, muy empleadas en la estadística de variables categóricas. \n",
    "\n",
    "Para calcular una tabla de contingencia, podemos partir de un Data Frame en formato largo y aplicar el método `crosstab`."
   ]
  },
  {
   "cell_type": "markdown",
   "metadata": {
    "slideshow": {
     "slide_type": "subslide"
    }
   },
   "source": [
    "Veamos un ejemplo:"
   ]
  },
  {
   "cell_type": "code",
   "execution_count": 102,
   "metadata": {
    "slideshow": {
     "slide_type": "fragment"
    }
   },
   "outputs": [
    {
     "data": {
      "text/html": [
       "<div>\n",
       "<style scoped>\n",
       "    .dataframe tbody tr th:only-of-type {\n",
       "        vertical-align: middle;\n",
       "    }\n",
       "\n",
       "    .dataframe tbody tr th {\n",
       "        vertical-align: top;\n",
       "    }\n",
       "\n",
       "    .dataframe thead th {\n",
       "        text-align: right;\n",
       "    }\n",
       "</style>\n",
       "<table border=\"1\" class=\"dataframe\">\n",
       "  <thead>\n",
       "    <tr style=\"text-align: right;\">\n",
       "      <th></th>\n",
       "      <th>Participante</th>\n",
       "      <th>Gesture</th>\n",
       "      <th>Guess</th>\n",
       "    </tr>\n",
       "  </thead>\n",
       "  <tbody>\n",
       "    <tr>\n",
       "      <th>0</th>\n",
       "      <td>1</td>\n",
       "      <td>Int_Waving</td>\n",
       "      <td>1</td>\n",
       "    </tr>\n",
       "    <tr>\n",
       "      <th>1</th>\n",
       "      <td>2</td>\n",
       "      <td>Int_Waving</td>\n",
       "      <td>1</td>\n",
       "    </tr>\n",
       "    <tr>\n",
       "      <th>2</th>\n",
       "      <td>3</td>\n",
       "      <td>Int_Waving</td>\n",
       "      <td>1</td>\n",
       "    </tr>\n",
       "    <tr>\n",
       "      <th>3</th>\n",
       "      <td>4</td>\n",
       "      <td>Int_Waving</td>\n",
       "      <td>1</td>\n",
       "    </tr>\n",
       "    <tr>\n",
       "      <th>4</th>\n",
       "      <td>5</td>\n",
       "      <td>Int_Waving</td>\n",
       "      <td>1</td>\n",
       "    </tr>\n",
       "    <tr>\n",
       "      <th>...</th>\n",
       "      <td>...</td>\n",
       "      <td>...</td>\n",
       "      <td>...</td>\n",
       "    </tr>\n",
       "    <tr>\n",
       "      <th>199</th>\n",
       "      <td>30</td>\n",
       "      <td>Int_Nodding</td>\n",
       "      <td>0</td>\n",
       "    </tr>\n",
       "    <tr>\n",
       "      <th>200</th>\n",
       "      <td>31</td>\n",
       "      <td>Int_Nodding</td>\n",
       "      <td>1</td>\n",
       "    </tr>\n",
       "    <tr>\n",
       "      <th>201</th>\n",
       "      <td>32</td>\n",
       "      <td>Int_Nodding</td>\n",
       "      <td>1</td>\n",
       "    </tr>\n",
       "    <tr>\n",
       "      <th>202</th>\n",
       "      <td>33</td>\n",
       "      <td>Int_Nodding</td>\n",
       "      <td>1</td>\n",
       "    </tr>\n",
       "    <tr>\n",
       "      <th>203</th>\n",
       "      <td>34</td>\n",
       "      <td>Int_Nodding</td>\n",
       "      <td>1</td>\n",
       "    </tr>\n",
       "  </tbody>\n",
       "</table>\n",
       "<p>204 rows × 3 columns</p>\n",
       "</div>"
      ],
      "text/plain": [
       "     Participante      Gesture  Guess\n",
       "0               1   Int_Waving      1\n",
       "1               2   Int_Waving      1\n",
       "2               3   Int_Waving      1\n",
       "3               4   Int_Waving      1\n",
       "4               5   Int_Waving      1\n",
       "..            ...          ...    ...\n",
       "199            30  Int_Nodding      0\n",
       "200            31  Int_Nodding      1\n",
       "201            32  Int_Nodding      1\n",
       "202            33  Int_Nodding      1\n",
       "203            34  Int_Nodding      1\n",
       "\n",
       "[204 rows x 3 columns]"
      ]
     },
     "execution_count": 102,
     "metadata": {},
     "output_type": "execute_result"
    }
   ],
   "source": [
    "melt_intent"
   ]
  },
  {
   "cell_type": "code",
   "execution_count": 103,
   "metadata": {
    "slideshow": {
     "slide_type": "subslide"
    }
   },
   "outputs": [
    {
     "data": {
      "text/html": [
       "<div>\n",
       "<style scoped>\n",
       "    .dataframe tbody tr th:only-of-type {\n",
       "        vertical-align: middle;\n",
       "    }\n",
       "\n",
       "    .dataframe tbody tr th {\n",
       "        vertical-align: top;\n",
       "    }\n",
       "\n",
       "    .dataframe thead th {\n",
       "        text-align: right;\n",
       "    }\n",
       "</style>\n",
       "<table border=\"1\" class=\"dataframe\">\n",
       "  <thead>\n",
       "    <tr style=\"text-align: right;\">\n",
       "      <th>Guess</th>\n",
       "      <th>0</th>\n",
       "      <th>1</th>\n",
       "    </tr>\n",
       "    <tr>\n",
       "      <th>Gesture</th>\n",
       "      <th></th>\n",
       "      <th></th>\n",
       "    </tr>\n",
       "  </thead>\n",
       "  <tbody>\n",
       "    <tr>\n",
       "      <th>Int_Explicar</th>\n",
       "      <td>4</td>\n",
       "      <td>30</td>\n",
       "    </tr>\n",
       "    <tr>\n",
       "      <th>Int_Negacion</th>\n",
       "      <td>4</td>\n",
       "      <td>30</td>\n",
       "    </tr>\n",
       "    <tr>\n",
       "      <th>Int_Nodding</th>\n",
       "      <td>1</td>\n",
       "      <td>33</td>\n",
       "    </tr>\n",
       "    <tr>\n",
       "      <th>Int_Pointing</th>\n",
       "      <td>11</td>\n",
       "      <td>23</td>\n",
       "    </tr>\n",
       "    <tr>\n",
       "      <th>Int_Tristeza</th>\n",
       "      <td>15</td>\n",
       "      <td>19</td>\n",
       "    </tr>\n",
       "    <tr>\n",
       "      <th>Int_Waving</th>\n",
       "      <td>0</td>\n",
       "      <td>34</td>\n",
       "    </tr>\n",
       "  </tbody>\n",
       "</table>\n",
       "</div>"
      ],
      "text/plain": [
       "Guess          0   1\n",
       "Gesture             \n",
       "Int_Explicar   4  30\n",
       "Int_Negacion   4  30\n",
       "Int_Nodding    1  33\n",
       "Int_Pointing  11  23\n",
       "Int_Tristeza  15  19\n",
       "Int_Waving     0  34"
      ]
     },
     "execution_count": 103,
     "metadata": {},
     "output_type": "execute_result"
    }
   ],
   "source": [
    "contingency = pd.crosstab(melt_intent[\"Gesture\"], m_intent[\"Guess\"])\n",
    "contingency"
   ]
  },
  {
   "cell_type": "markdown",
   "metadata": {
    "slideshow": {
     "slide_type": "subslide"
    }
   },
   "source": [
    "Para saber más sobre pandas, puedes revisar la [documentación](https://pandas.pydata.org/pandas-docs/stable/reference/general_functions.html) disponible en internet. \n",
    "\n",
    "Además, puedes revisar el \"Pandas Cheat Sheet\" disponible en PAIDEIA."
   ]
  }
 ],
 "metadata": {
  "celltoolbar": "Slideshow",
  "interpreter": {
   "hash": "429183b29f7e15a3d52783890ad1398801cfd8f8cc4f4898fadd3811035dbdaa"
  },
  "kernelspec": {
   "display_name": "Python 3 (ipykernel)",
   "language": "python",
   "name": "python3"
  },
  "language_info": {
   "codemirror_mode": {
    "name": "ipython",
    "version": 3
   },
   "file_extension": ".py",
   "mimetype": "text/x-python",
   "name": "python",
   "nbconvert_exporter": "python",
   "pygments_lexer": "ipython3",
   "version": "3.7.14"
  }
 },
 "nbformat": 4,
 "nbformat_minor": 2
}
