{
 "cells": [
  {
   "cell_type": "markdown",
   "metadata": {},
   "source": [
    "# Ejercicios de carga de datos textuales"
   ]
  },
  {
   "cell_type": "markdown",
   "metadata": {},
   "source": [
    "1. Accede a un artículo del sitio web Psychology Today y extrae el contenido textual. Presenta solo el texto relevante al artículo."
   ]
  },
  {
   "cell_type": "code",
   "execution_count": 48,
   "metadata": {},
   "outputs": [
    {
     "data": {
      "text/plain": [
       "'The Psychologically Rich LifeBeyond, or beside, meaningfulness and happiness is psychological richness.Posted May 26, 2022|Reviewed by Kaja PerinaShareTweetEmailKey pointsThe psychologically rich life differs from the existing hedonic-eudaimonic dichotomy in a number of ways.The psychologically rich life comprises novel, complex and interesting experiences that lead to changes in perspective.The stories that we accumulate and share with others are the currency of our psychological wealth.Instructions for living a life.Payattention.Be astonished.Tell about it.Mary OliverPsychologist Shige Oishi had been studyinghappinessfor 20 years, when one summer, he decided to pause and take stock of the wealth of accumulated research. Among his biggest insights was the role our connections with others played in the quality of our lives. The science was equally clear: although well-being had many renditions,the good life– the one common elusive aspiration that humans around the world shared – followed two mainhedonicandeudaimonicpathways. Our relationships were implicated in both.Yet, even as Oishi examined his own auspicious circumstances, the story felt incomplete. There had to be more to a good life than obtaininghappinessandmeaning. Oishi’s inklings were confirmed by his students, the protagonists of Nietzsche and Hesse, and the stories of natural disaster survivors, who Oishi calls the forgotten people of the well-being literature. The good life, it appeared, was still within reach, even when happiness and meaning weren’t.To make the conceptual space of the well-lived life more inclusive, Oishi proposed the dimension ofpsychological richness. Characterized by a variety of novel, complex, and perspective-changing experiences (that weren’t necessarily happy or meaningful), thepsychologically richlife could capture the kaleidoscopic nature of the human adventure in its majesty, malaise, and everything in between.Three flavors of a good life: Happy, Meaningful, Psychologically RichAs a distinct, yet corelated dimension of a good life, the psychologically rich life differs from the existing hedonic-eudaimonic dichotomy in a number ofways. For example, if the emphasis of ahappy lifeis on positive emotions and security, and the emphasis of ameaningful lifeis on purpose and coherence, then the hallmarks of apsychologically rich lifeare variety, interest and perspective (Oishi & Westgate, 2021). If a positive mindset facilitates a happy life, and moral principles facilitate a meaningful life, then curiosity and spontaneity will facilitate a psychologically rich life. If the outcome of a happy life is personal satisfaction and the outcome of a meaningful life is societal contribution, then the outcome of a psychologically rich life, according toOishi, iswisdom.Source: Pogosyan/Oishi & Westgate, 2021The garden metaphor of well-beingSource: toodlingstudio/PixabayTo explore the three constructs of well-being differently, consider the metaphor of a beautiful garden. You might feelhedonic well-beingwhenever you are greeted by the lovely blooms as you stroll through your garden. You might experienceeudaimonic well-beingas you revel in the sense of purpose you receive from tending to your garden and sharing its gifts with others. According to Oishi,psychological richnessarises as your garden undergoes seasonal changes. The landscape of the garden is in a constant flux. Its diverse inhabitants from the plant and animal kingdoms follow the Nature’s lead. As you watch your garden metamorphose through the seasons – aflush with color and harvest in one, barren and dormant in another – you might recognize the wealth, wonder and wisdom of life’s unfolding, to which you also belong.Here are 6 questions on the psychologically-rich life with Dr. Oishi.What does a psychologically rich life look like?A psychologically rich life is a life of curiosity and exploration. It’s not that you have to chase after new and exciting experiences all the time. Rather, it’s an invitation to remain curious about life in its fullness, and not limit yourself to the comforts of what you already know.What is the mechanism that allows our experiences, at times even the challenging ones, to add up to a well-lived life?Consider the differences between material wealth and psychological wealth. Material wealth, which can be money or other assets, is often tangible. For me, the psychological equivalent of material wealth are our stories. They might include our happy memories and the meaningful contributions we make to other people’s lives. But when it comes topsychological richness, sometimes even the difficult experiences that help us grow and see things in new ways can add to our wealth. That’s because those are often the experiences that we tend to with care and reflection, which then turn to insights and observations that we can carry with us and share with others.Two people can have the same number of unusual experiences. For one person, these experiences will add up to bring about new insights and perspectives. For someone else, they will remain interesting, yet disparate events that don’t contribute to growth. In part, this discrepancy has to do withpersonality, value systems, and even mindset. For example, if someone wants to live an aesthetic life, then engaging with thought-provoking art can be transformative for them, compared to someone who isn’t interested in these values. It also matters how reflective the person is. Self-reflection might be what binds experiences together to make them count towards a well-lived life. When we deeply reflect on our experiences, the connections and insights that we gather can accumulate to make for a richer whole.You argue that a psychologically rich life comprises of experiences in which novelty and complexity are followed by changes in perspective. Why is a change in perspective so important?A change of perspective is precisely what captures some of the growth. For example, the reason why certain experiences such as study abroad programs can be so transformative, is because they often introduce us to new ways of thinking about life. In turn, we might become encouraged to engage with the novelty and complexity of the experience in ways that affect our understanding of the world and lead to growth.On the other hand, a person can go bungee-jumping for the sake ofsensation seeking, and it might not change anything about the way they see life. Thus, change of perspective is an indication that we were able to digest the novelty, complexity and depth of the experience in new, insightful ways.Can second-hand experiences, for example through literature and film, contribute to a psychologically rich life?Great literature, poetry, film, music and art can significantly enrich our lives. I think humans created art and culture to essentially help themselves go through a wealth of experiences second-hand. As Marcel Proust wrote in In Search of Lost Time, a novel can help us experience the joys and sorrows of someone’s entire lifetime within a matter of hours. While first-hand experiences are obviously more real, sometimes the imaginary worlds that novelists craft can be as vivid.How can we add psychological richness to our lives?A good lesson can be found in studies about regret. According to research, short-term regret is usually about something you did, whereas long-term regret is about something you didn’t do. If you were to ask old people about their regrets, it often is aboutnothaving various experiences,nottaking the job offer,notdoing this or that. This mindset can help us be more willing to make changes.What can research on psychological richness teach us about the good life?Sometimes, people can be so obsessed with happiness, that they actively strive to stir their lives in one direction – that of positive emotions and comfort. But life is unpredictable, and unfortunately, not always pleasant.Psychological richnessentails accepting life as it happens, in its entirety. If we consider stories that we accumulate and share with others as the currency ofpsychological richness, many of our experiences can lend new insights and propel us towards growth, thus adding up to wealth.To me, this research diversifies the ways in which people could lead a good life. A happy life is a great life. A meaningful life is a great life. But at times, when happiness and meaning are hard to come by, or if you are not predisposed to them, you can still experience well-being and have a good, admirable life by leading a psychologically rich life'"
      ]
     },
     "execution_count": 48,
     "metadata": {},
     "output_type": "execute_result"
    }
   ],
   "source": [
    "# Escribe tu respuesta aquí\n",
    "from urllib.request import urlopen\n",
    "from urllib.request import Request\n",
    "from bs4 import BeautifulSoup\n",
    "\n",
    "# Get html\n",
    "url = \"https://www.psychologytoday.com/us/blog/between-cultures/202205/the-psychologically-rich-life\"\n",
    "headers = {\n",
    "    \"User-Agent\": \"Mozilla/5.0 (Windows NT 6.1; WOW64; rv:23.0) Gecko/20100101 Firefox/23.0\"\n",
    "}\n",
    "req = Request(url=url, headers=headers)\n",
    "html = urlopen(req).read()\n",
    "\n",
    "# Parse html\n",
    "soup = BeautifulSoup(html)\n",
    "raw = soup.get_text(strip=True)\n",
    "\n",
    "# Select relevant portion of text\n",
    "fragment = raw[1726:10286]\n",
    "fragment"
   ]
  },
  {
   "cell_type": "code",
   "execution_count": 49,
   "metadata": {},
   "outputs": [
    {
     "name": "stdout",
     "output_type": "stream",
     "text": [
      "[nltk_data] Downloading package punkt to /home/renato/nltk_data...\n",
      "[nltk_data]   Package punkt is already up-to-date!\n"
     ]
    },
    {
     "data": {
      "image/png": "[encoded data removed]",
      "text/plain": [
       "<Figure size 432x288 with 1 Axes>"
      ]
     },
     "metadata": {
      "needs_background": "light"
     },
     "output_type": "display_data"
    }
   ],
   "source": [
    "import nltk\n",
    "\n",
    "nltk.download(\"punkt\")\n",
    "\n",
    "# Get tokens\n",
    "tokens = nltk.word_tokenize(fragment)\n",
    "\n",
    "# Create text object\n",
    "text = nltk.Text(tokens)\n",
    "\n",
    "# Plot most frequent words\n",
    "text.plot(20)"
   ]
  },
  {
   "cell_type": "markdown",
   "metadata": {},
   "source": [
    "2. Utiliza el API de Twitter para extraer 200 tweets de un hashtag de tu interés. Almacena tus resultados en un DataFrame de Pandas y asegúrate de no incluir valores repetidos. "
   ]
  },
  {
   "cell_type": "code",
   "execution_count": 11,
   "metadata": {},
   "outputs": [],
   "source": [
    "# Escribe tu respuesta aquí\n",
    "import tweepy\n",
    "\n",
    "# Authenticate\n",
    "consumerKey = \"TYPE HERE\"\n",
    "consumerSecret = \"TYPE HERE\"\n",
    "accessToken = \"TYPE HERE\"\n",
    "accessTokenSecret = \"TYPE HERE\"\n",
    "\n",
    "auth = tweepy.OAuthHandler(consumerKey, consumerSecret)\n",
    "auth.set_access_token(accessToken, accessTokenSecret)\n",
    "api = tweepy.API(auth)"
   ]
  },
  {
   "cell_type": "code",
   "execution_count": 12,
   "metadata": {},
   "outputs": [
    {
     "data": {
      "text/html": [
       "<div>\n",
       "<style scoped>\n",
       "    .dataframe tbody tr th:only-of-type {\n",
       "        vertical-align: middle;\n",
       "    }\n",
       "\n",
       "    .dataframe tbody tr th {\n",
       "        vertical-align: top;\n",
       "    }\n",
       "\n",
       "    .dataframe thead th {\n",
       "        text-align: right;\n",
       "    }\n",
       "</style>\n",
       "<table border=\"1\" class=\"dataframe\">\n",
       "  <thead>\n",
       "    <tr style=\"text-align: right;\">\n",
       "      <th></th>\n",
       "      <th>0</th>\n",
       "    </tr>\n",
       "  </thead>\n",
       "  <tbody>\n",
       "    <tr>\n",
       "      <th>0</th>\n",
       "      <td>RT @june_cooper: #JohnnyDeppIsInnocent\\n\\n#Jus...</td>\n",
       "    </tr>\n",
       "    <tr>\n",
       "      <th>1</th>\n",
       "      <td>RT @mony1117: Estos abogados!!👏🏽 💪🏽👊🏽👌🏽❤ esto ...</td>\n",
       "    </tr>\n",
       "    <tr>\n",
       "      <th>2</th>\n",
       "      <td>RT @nuggin: To Johnny Depp,\\n\\nYou were told t...</td>\n",
       "    </tr>\n",
       "    <tr>\n",
       "      <th>3</th>\n",
       "      <td>RT @twiggywitch: Johnny solo buscaba decir la ...</td>\n",
       "    </tr>\n",
       "    <tr>\n",
       "      <th>4</th>\n",
       "      <td>RT @Shaniente12: I’m starting to question if A...</td>\n",
       "    </tr>\n",
       "    <tr>\n",
       "      <th>...</th>\n",
       "      <td>...</td>\n",
       "    </tr>\n",
       "    <tr>\n",
       "      <th>174</th>\n",
       "      <td>RT @Sangham99732471: I want to unanimously tha...</td>\n",
       "    </tr>\n",
       "    <tr>\n",
       "      <th>180</th>\n",
       "      <td>RT @Alejand01350761: Very emotional day. Johnn...</td>\n",
       "    </tr>\n",
       "    <tr>\n",
       "      <th>182</th>\n",
       "      <td>RT @iamthatBK: Rottenborn argued that just bec...</td>\n",
       "    </tr>\n",
       "    <tr>\n",
       "      <th>184</th>\n",
       "      <td>No one talk about how is she going to pay $50m...</td>\n",
       "    </tr>\n",
       "    <tr>\n",
       "      <th>195</th>\n",
       "      <td>RT @maryfernandezx: Elaine: \"Estás buscando tu...</td>\n",
       "    </tr>\n",
       "  </tbody>\n",
       "</table>\n",
       "<p>85 rows × 1 columns</p>\n",
       "</div>"
      ],
      "text/plain": [
       "                                                     0\n",
       "0    RT @june_cooper: #JohnnyDeppIsInnocent\\n\\n#Jus...\n",
       "1    RT @mony1117: Estos abogados!!👏🏽 💪🏽👊🏽👌🏽❤ esto ...\n",
       "2    RT @nuggin: To Johnny Depp,\\n\\nYou were told t...\n",
       "3    RT @twiggywitch: Johnny solo buscaba decir la ...\n",
       "4    RT @Shaniente12: I’m starting to question if A...\n",
       "..                                                 ...\n",
       "174  RT @Sangham99732471: I want to unanimously tha...\n",
       "180  RT @Alejand01350761: Very emotional day. Johnn...\n",
       "182  RT @iamthatBK: Rottenborn argued that just bec...\n",
       "184  No one talk about how is she going to pay $50m...\n",
       "195  RT @maryfernandezx: Elaine: \"Estás buscando tu...\n",
       "\n",
       "[85 rows x 1 columns]"
      ]
     },
     "execution_count": 12,
     "metadata": {},
     "output_type": "execute_result"
    }
   ],
   "source": [
    "import pandas as pd\n",
    "\n",
    "# Get tweets\n",
    "keyword = \"#JohnnyDeppIsInnocent\"\n",
    "noOfTweet = 200\n",
    "tweets = tweepy.Cursor(api.search, q=keyword).items(noOfTweet)\n",
    "\n",
    "# Put tweets in list\n",
    "tweet_list = []\n",
    "for tweet in tweets:\n",
    "    tweet_list.append(tweet.text)\n",
    "\n",
    "# Put tweets in Data Frame and drop duplicates\n",
    "tweet_list = pd.DataFrame(tweet_list)\n",
    "tweet_list.drop_duplicates(inplace=True)\n",
    "tweet_list"
   ]
  }
 ],
 "metadata": {
  "interpreter": {
   "hash": "94285bb15823d6808010e9c4aa3c0f3449aea2861795e388604752bf8b5281bb"
  },
  "kernelspec": {
   "display_name": "Python 3 (ipykernel)",
   "language": "python",
   "name": "python3"
  },
  "language_info": {
   "codemirror_mode": {
    "name": "ipython",
    "version": 3
   },
   "file_extension": ".py",
   "mimetype": "text/x-python",
   "name": "python",
   "nbconvert_exporter": "python",
   "pygments_lexer": "ipython3",
   "version": "3.7.14"
  }
 },
 "nbformat": 4,
 "nbformat_minor": 2
}
